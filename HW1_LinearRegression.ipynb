{
  "nbformat": 4,
  "nbformat_minor": 0,
  "metadata": {
    "colab": {
      "name": "HW1_LinearRegression.ipynb",
      "provenance": [],
      "collapsed_sections": [],
      "authorship_tag": "ABX9TyNKCrK7JPjL07RCETp6S5zk",
      "include_colab_link": true
    },
    "kernelspec": {
      "name": "python3",
      "display_name": "Python 3"
    }
  },
  "cells": [
    {
      "cell_type": "markdown",
      "metadata": {
        "id": "view-in-github",
        "colab_type": "text"
      },
      "source": [
        "<a href=\"https://colab.research.google.com/github/trevinofernando/Algorithms-for-Machine-Learning/blob/master/HW1_LinearRegression.ipynb\" target=\"_parent\"><img src=\"https://colab.research.google.com/assets/colab-badge.svg\" alt=\"Open In Colab\"/></a>"
      ]
    },
    {
      "cell_type": "markdown",
      "metadata": {
        "id": "DTzFiThCIe9U",
        "colab_type": "text"
      },
      "source": [
        "#Data Exploration"
      ]
    },
    {
      "cell_type": "code",
      "metadata": {
        "id": "_FMwbbH1ecyF",
        "colab_type": "code",
        "colab": {}
      },
      "source": [
        "import numpy as np\n",
        "import matplotlib.pyplot as plt\n",
        "import pandas as pd\n",
        "from matplotlib.lines import Line2D"
      ],
      "execution_count": 876,
      "outputs": []
    },
    {
      "cell_type": "markdown",
      "metadata": {
        "id": "kdBPmd1LIlye",
        "colab_type": "text"
      },
      "source": [
        "##Data retrival"
      ]
    },
    {
      "cell_type": "code",
      "metadata": {
        "id": "YfeR_EGZ8RsR",
        "colab_type": "code",
        "colab": {
          "base_uri": "https://localhost:8080/",
          "height": 416
        },
        "outputId": "3439186c-8f56-4820-ad99-e301446099e2"
      },
      "source": [
        "url = \"https://archive.ics.uci.edu/ml/machine-learning-databases/iris/iris.data\"\n",
        "\n",
        "header = ['sepal_length', 'sepal_width', 'petal_length', 'petal_width', 'iris_class']\n",
        "\n",
        "dataframe = pd.read_csv(url, names = header)\n",
        "dataframe.info()\n",
        "dataframe.head()"
      ],
      "execution_count": 877,
      "outputs": [
        {
          "output_type": "stream",
          "text": [
            "<class 'pandas.core.frame.DataFrame'>\n",
            "RangeIndex: 150 entries, 0 to 149\n",
            "Data columns (total 5 columns):\n",
            " #   Column        Non-Null Count  Dtype  \n",
            "---  ------        --------------  -----  \n",
            " 0   sepal_length  150 non-null    float64\n",
            " 1   sepal_width   150 non-null    float64\n",
            " 2   petal_length  150 non-null    float64\n",
            " 3   petal_width   150 non-null    float64\n",
            " 4   iris_class    150 non-null    object \n",
            "dtypes: float64(4), object(1)\n",
            "memory usage: 6.0+ KB\n"
          ],
          "name": "stdout"
        },
        {
          "output_type": "execute_result",
          "data": {
            "text/html": [
              "<div>\n",
              "<style scoped>\n",
              "    .dataframe tbody tr th:only-of-type {\n",
              "        vertical-align: middle;\n",
              "    }\n",
              "\n",
              "    .dataframe tbody tr th {\n",
              "        vertical-align: top;\n",
              "    }\n",
              "\n",
              "    .dataframe thead th {\n",
              "        text-align: right;\n",
              "    }\n",
              "</style>\n",
              "<table border=\"1\" class=\"dataframe\">\n",
              "  <thead>\n",
              "    <tr style=\"text-align: right;\">\n",
              "      <th></th>\n",
              "      <th>sepal_length</th>\n",
              "      <th>sepal_width</th>\n",
              "      <th>petal_length</th>\n",
              "      <th>petal_width</th>\n",
              "      <th>iris_class</th>\n",
              "    </tr>\n",
              "  </thead>\n",
              "  <tbody>\n",
              "    <tr>\n",
              "      <th>0</th>\n",
              "      <td>5.1</td>\n",
              "      <td>3.5</td>\n",
              "      <td>1.4</td>\n",
              "      <td>0.2</td>\n",
              "      <td>Iris-setosa</td>\n",
              "    </tr>\n",
              "    <tr>\n",
              "      <th>1</th>\n",
              "      <td>4.9</td>\n",
              "      <td>3.0</td>\n",
              "      <td>1.4</td>\n",
              "      <td>0.2</td>\n",
              "      <td>Iris-setosa</td>\n",
              "    </tr>\n",
              "    <tr>\n",
              "      <th>2</th>\n",
              "      <td>4.7</td>\n",
              "      <td>3.2</td>\n",
              "      <td>1.3</td>\n",
              "      <td>0.2</td>\n",
              "      <td>Iris-setosa</td>\n",
              "    </tr>\n",
              "    <tr>\n",
              "      <th>3</th>\n",
              "      <td>4.6</td>\n",
              "      <td>3.1</td>\n",
              "      <td>1.5</td>\n",
              "      <td>0.2</td>\n",
              "      <td>Iris-setosa</td>\n",
              "    </tr>\n",
              "    <tr>\n",
              "      <th>4</th>\n",
              "      <td>5.0</td>\n",
              "      <td>3.6</td>\n",
              "      <td>1.4</td>\n",
              "      <td>0.2</td>\n",
              "      <td>Iris-setosa</td>\n",
              "    </tr>\n",
              "  </tbody>\n",
              "</table>\n",
              "</div>"
            ],
            "text/plain": [
              "   sepal_length  sepal_width  petal_length  petal_width   iris_class\n",
              "0           5.1          3.5           1.4          0.2  Iris-setosa\n",
              "1           4.9          3.0           1.4          0.2  Iris-setosa\n",
              "2           4.7          3.2           1.3          0.2  Iris-setosa\n",
              "3           4.6          3.1           1.5          0.2  Iris-setosa\n",
              "4           5.0          3.6           1.4          0.2  Iris-setosa"
            ]
          },
          "metadata": {
            "tags": []
          },
          "execution_count": 877
        }
      ]
    },
    {
      "cell_type": "markdown",
      "metadata": {
        "id": "l0Vooi2zIxe-",
        "colab_type": "text"
      },
      "source": [
        "##Randomize/Suffleing Dataset"
      ]
    },
    {
      "cell_type": "code",
      "metadata": {
        "id": "oj4rh4N7PXzr",
        "colab_type": "code",
        "colab": {
          "base_uri": "https://localhost:8080/",
          "height": 198
        },
        "outputId": "59f285ed-1d6f-4877-b0ff-430a66018b36"
      },
      "source": [
        "#shuffle dataframe in place\n",
        "dataframe = dataframe.sample(frac=1).reset_index(drop=True)\n",
        "dataframe.head()"
      ],
      "execution_count": 878,
      "outputs": [
        {
          "output_type": "execute_result",
          "data": {
            "text/html": [
              "<div>\n",
              "<style scoped>\n",
              "    .dataframe tbody tr th:only-of-type {\n",
              "        vertical-align: middle;\n",
              "    }\n",
              "\n",
              "    .dataframe tbody tr th {\n",
              "        vertical-align: top;\n",
              "    }\n",
              "\n",
              "    .dataframe thead th {\n",
              "        text-align: right;\n",
              "    }\n",
              "</style>\n",
              "<table border=\"1\" class=\"dataframe\">\n",
              "  <thead>\n",
              "    <tr style=\"text-align: right;\">\n",
              "      <th></th>\n",
              "      <th>sepal_length</th>\n",
              "      <th>sepal_width</th>\n",
              "      <th>petal_length</th>\n",
              "      <th>petal_width</th>\n",
              "      <th>iris_class</th>\n",
              "    </tr>\n",
              "  </thead>\n",
              "  <tbody>\n",
              "    <tr>\n",
              "      <th>0</th>\n",
              "      <td>6.8</td>\n",
              "      <td>2.8</td>\n",
              "      <td>4.8</td>\n",
              "      <td>1.4</td>\n",
              "      <td>Iris-versicolor</td>\n",
              "    </tr>\n",
              "    <tr>\n",
              "      <th>1</th>\n",
              "      <td>6.7</td>\n",
              "      <td>3.0</td>\n",
              "      <td>5.2</td>\n",
              "      <td>2.3</td>\n",
              "      <td>Iris-virginica</td>\n",
              "    </tr>\n",
              "    <tr>\n",
              "      <th>2</th>\n",
              "      <td>5.6</td>\n",
              "      <td>2.9</td>\n",
              "      <td>3.6</td>\n",
              "      <td>1.3</td>\n",
              "      <td>Iris-versicolor</td>\n",
              "    </tr>\n",
              "    <tr>\n",
              "      <th>3</th>\n",
              "      <td>5.0</td>\n",
              "      <td>3.4</td>\n",
              "      <td>1.5</td>\n",
              "      <td>0.2</td>\n",
              "      <td>Iris-setosa</td>\n",
              "    </tr>\n",
              "    <tr>\n",
              "      <th>4</th>\n",
              "      <td>5.7</td>\n",
              "      <td>4.4</td>\n",
              "      <td>1.5</td>\n",
              "      <td>0.4</td>\n",
              "      <td>Iris-setosa</td>\n",
              "    </tr>\n",
              "  </tbody>\n",
              "</table>\n",
              "</div>"
            ],
            "text/plain": [
              "   sepal_length  sepal_width  petal_length  petal_width       iris_class\n",
              "0           6.8          2.8           4.8          1.4  Iris-versicolor\n",
              "1           6.7          3.0           5.2          2.3   Iris-virginica\n",
              "2           5.6          2.9           3.6          1.3  Iris-versicolor\n",
              "3           5.0          3.4           1.5          0.2      Iris-setosa\n",
              "4           5.7          4.4           1.5          0.4      Iris-setosa"
            ]
          },
          "metadata": {
            "tags": []
          },
          "execution_count": 878
        }
      ]
    },
    {
      "cell_type": "markdown",
      "metadata": {
        "id": "lXvWepBQJArk",
        "colab_type": "text"
      },
      "source": [
        "##Counting classes in dataset"
      ]
    },
    {
      "cell_type": "code",
      "metadata": {
        "id": "juBYnN4AQisC",
        "colab_type": "code",
        "colab": {
          "base_uri": "https://localhost:8080/",
          "height": 90
        },
        "outputId": "3a5860a4-e7e3-40b1-f713-7b1bba125e35"
      },
      "source": [
        "dataframe.iris_class.value_counts()"
      ],
      "execution_count": 879,
      "outputs": [
        {
          "output_type": "execute_result",
          "data": {
            "text/plain": [
              "Iris-setosa        50\n",
              "Iris-versicolor    50\n",
              "Iris-virginica     50\n",
              "Name: iris_class, dtype: int64"
            ]
          },
          "metadata": {
            "tags": []
          },
          "execution_count": 879
        }
      ]
    },
    {
      "cell_type": "markdown",
      "metadata": {
        "id": "sFC28N27JSpD",
        "colab_type": "text"
      },
      "source": [
        "##Minmums and Maximums"
      ]
    },
    {
      "cell_type": "markdown",
      "metadata": {
        "id": "qWq07vw64bug",
        "colab_type": "text"
      },
      "source": [
        "###Sepal"
      ]
    },
    {
      "cell_type": "code",
      "metadata": {
        "id": "3meEYUmSQru-",
        "colab_type": "code",
        "colab": {
          "base_uri": "https://localhost:8080/",
          "height": 90
        },
        "outputId": "646930c8-0e45-4bd6-ec44-f4451ae17d68"
      },
      "source": [
        "print(\"Min sepal_length = {} in.\".format(dataframe.sepal_length.min()))\n",
        "print(\"Max sepal_length = {} in.\".format(dataframe.sepal_length.max()))\n",
        "print(\"Min sepal_width = {} in.\".format(dataframe.sepal_width.min()))\n",
        "print(\"Max sepal_width = {} in.\".format(dataframe.sepal_width.max()))"
      ],
      "execution_count": 880,
      "outputs": [
        {
          "output_type": "stream",
          "text": [
            "Min sepal_length = 4.3 in.\n",
            "Max sepal_length = 7.9 in.\n",
            "Min sepal_width = 2.0 in.\n",
            "Max sepal_width = 4.4 in.\n"
          ],
          "name": "stdout"
        }
      ]
    },
    {
      "cell_type": "markdown",
      "metadata": {
        "id": "wM8FufIS4dyw",
        "colab_type": "text"
      },
      "source": [
        "###Petal"
      ]
    },
    {
      "cell_type": "code",
      "metadata": {
        "id": "p9AUMwehJ0lp",
        "colab_type": "code",
        "colab": {
          "base_uri": "https://localhost:8080/",
          "height": 90
        },
        "outputId": "fc766b17-67ce-43ce-b737-a35768ce7918"
      },
      "source": [
        "print(\"Min petal_length = {} in.\".format(dataframe.petal_length.min()))\n",
        "print(\"Max petal_length = {} in.\".format(dataframe.petal_length.max()))\n",
        "print(\"Min petal_width = {} in.\".format(dataframe.petal_width.min()))\n",
        "print(\"Max petal_width = {} in.\".format(dataframe.petal_width.max()))"
      ],
      "execution_count": 881,
      "outputs": [
        {
          "output_type": "stream",
          "text": [
            "Min petal_length = 1.0 in.\n",
            "Max petal_length = 6.9 in.\n",
            "Min petal_width = 0.1 in.\n",
            "Max petal_width = 2.5 in.\n"
          ],
          "name": "stdout"
        }
      ]
    },
    {
      "cell_type": "markdown",
      "metadata": {
        "id": "uFIh7uJKKQgB",
        "colab_type": "text"
      },
      "source": [
        "##Scatterplots"
      ]
    },
    {
      "cell_type": "markdown",
      "metadata": {
        "id": "FlLXMyS54nuI",
        "colab_type": "text"
      },
      "source": [
        "###Setup"
      ]
    },
    {
      "cell_type": "code",
      "metadata": {
        "id": "Zzvv59VX9shs",
        "colab_type": "code",
        "colab": {
          "base_uri": "https://localhost:8080/",
          "height": 90
        },
        "outputId": "fc49aab5-66d1-451f-d796-1c0b6b0e601d"
      },
      "source": [
        "data = dataframe.iloc[:, :-1].values\n",
        "labels = dataframe.iloc[:, -1].values\n",
        "\n",
        "print(\"Shape of data: \") \n",
        "print(data.shape)\n",
        "print(\"Shape of laebls: \")\n",
        "print(labels.shape)"
      ],
      "execution_count": 882,
      "outputs": [
        {
          "output_type": "stream",
          "text": [
            "Shape of data: \n",
            "(150, 4)\n",
            "Shape of laebls: \n",
            "(150,)\n"
          ],
          "name": "stdout"
        }
      ]
    },
    {
      "cell_type": "code",
      "metadata": {
        "id": "_2bAdngQYQ7A",
        "colab_type": "code",
        "colab": {}
      },
      "source": [
        "# Function to map the colors as a list from the labels\n",
        "def pltcolor(lst):\n",
        "    cols=[]\n",
        "    for l in lst:\n",
        "        if l=='Iris-virginica':\n",
        "            cols.append('red')\n",
        "        elif l=='Iris-versicolor':\n",
        "            cols.append('blue')\n",
        "        elif l=='Iris-setosa':\n",
        "            cols.append('green')\n",
        "        else: #unlabeled data\n",
        "            cols.append('black')\n",
        "    return cols\n",
        "# Create the colors list using the function above\n",
        "cols=pltcolor(labels)\n",
        "\n",
        "# Labels to use for each class\n",
        "group = labels\n",
        "classdict = {\"Iris-virginica\": 'red', \"Iris-versicolor\": 'blue', \"Iris-setosa\": 'green'}"
      ],
      "execution_count": 883,
      "outputs": []
    },
    {
      "cell_type": "markdown",
      "metadata": {
        "id": "dgzKjbcvKhhm",
        "colab_type": "text"
      },
      "source": [
        "###Sepal Length vs Sepal Width"
      ]
    },
    {
      "cell_type": "code",
      "metadata": {
        "id": "tGuocE1lKga2",
        "colab_type": "code",
        "colab": {
          "base_uri": "https://localhost:8080/",
          "height": 331
        },
        "outputId": "61b2d1f7-f2eb-42e6-93e9-dba8d6be28ac"
      },
      "source": [
        "fig, ax = plt.subplots()\n",
        "\n",
        "#Plot each class at a time just so we can colored legend\n",
        "for g in np.unique(group):\n",
        "    indexesOfGroup = np.where(group == g)\n",
        "    ax.scatter(data[indexesOfGroup, 0], data[indexesOfGroup, 1], c = classdict[g], label = g, s = 20)\n",
        "\n",
        "ax.legend( loc=\"upper right\",      # Position of the legend\n",
        "           borderaxespad=0.1)      # Add little spacing around the legend box\n",
        "\n",
        "#plt.scatter(x=data[:,0], y=data[:,1], c=cols)\n",
        "plt.title(\"Sepal Legth vs Sepal Width\",fontsize=24)\n",
        "plt.xlabel(header[0], fontsize=18)\n",
        "plt.ylabel(header[1], rotation=90, fontsize=18)\n",
        "plt.axis([dataframe.sepal_length.min(), dataframe.sepal_length.max(), dataframe.sepal_width.min(), dataframe.sepal_width.max()])\n",
        "plt.show()\n",
        "print(\"It doesn't appear to be a linear relationship between Sepal Length vs Sepal Width\")"
      ],
      "execution_count": 884,
      "outputs": [
        {
          "output_type": "display_data",
          "data": {
            "image/png": "[encoded data removed]",
            "text/plain": [
              "<Figure size 432x288 with 1 Axes>"
            ]
          },
          "metadata": {
            "tags": [],
            "needs_background": "light"
          }
        },
        {
          "output_type": "stream",
          "text": [
            "It doesn't appear to be a linear relationship between Sepal Length vs Sepal Width\n"
          ],
          "name": "stdout"
        }
      ]
    },
    {
      "cell_type": "markdown",
      "metadata": {
        "id": "QSBT8EpSKaOG",
        "colab_type": "text"
      },
      "source": [
        "###Petal Length vs Petal Width"
      ]
    },
    {
      "cell_type": "code",
      "metadata": {
        "id": "bgLJAMXWKie3",
        "colab_type": "code",
        "colab": {
          "base_uri": "https://localhost:8080/",
          "height": 331
        },
        "outputId": "f866e538-9409-4c5a-db25-dbf7dedb125d"
      },
      "source": [
        "fig, ax = plt.subplots()\n",
        "\n",
        "#Plot each class at a time just so we can color the legend\n",
        "for g in np.unique(group):\n",
        "    indexesOfGroup = np.where(group == g)\n",
        "    ax.scatter(data[indexesOfGroup, 2], data[indexesOfGroup, 3], c = classdict[g], label = g, s = 20)\n",
        "\n",
        "ax.legend( loc=\"lower right\",      # Position of the legend\n",
        "           borderaxespad=0.1)      # Add little spacing around the legend box\n",
        "\n",
        "#plt.scatter(x=data[:,2], y=data[:,3], c=cols)\n",
        "plt.title(\"Petal Length vs Petal Width\",fontsize=24)\n",
        "plt.xlabel(header[2], fontsize=18)\n",
        "plt.ylabel(header[3], rotation=90, fontsize=18)\n",
        "plt.axis([dataframe.petal_length.min(), dataframe.petal_length.max(), dataframe.petal_width.min(), dataframe.petal_width.max()])\n",
        "plt.show()\n",
        "print(\"It's easy to see the Petal Length vs Petal Width follow an increasing linear trend\")"
      ],
      "execution_count": 885,
      "outputs": [
        {
          "output_type": "display_data",
          "data": {
            "image/png": "[encoded data removed]",
            "text/plain": [
              "<Figure size 432x288 with 1 Axes>"
            ]
          },
          "metadata": {
            "tags": [],
            "needs_background": "light"
          }
        },
        {
          "output_type": "stream",
          "text": [
            "It's easy to see the Petal Length vs Petal Width follow an increasing linear trend\n"
          ],
          "name": "stdout"
        }
      ]
    },
    {
      "cell_type": "markdown",
      "metadata": {
        "id": "FXq7BaurUcUP",
        "colab_type": "text"
      },
      "source": [
        "#Linear Regresion"
      ]
    },
    {
      "cell_type": "code",
      "metadata": {
        "id": "ZMKqraAjUbkc",
        "colab_type": "code",
        "colab": {}
      },
      "source": [
        "from sklearn.linear_model import LogisticRegression\n",
        "from sklearn.linear_model import LinearRegression\n",
        "from sklearn.metrics import classification_report\n",
        "from sklearn.metrics import accuracy_score\n",
        "from sklearn.metrics import r2_score\n",
        "from sklearn.model_selection import train_test_split"
      ],
      "execution_count": 886,
      "outputs": []
    },
    {
      "cell_type": "markdown",
      "metadata": {
        "id": "dugtU8ORYQG6",
        "colab_type": "text"
      },
      "source": [
        "##Sepal"
      ]
    },
    {
      "cell_type": "code",
      "metadata": {
        "id": "hKvlyAQCXtPq",
        "colab_type": "code",
        "colab": {
          "base_uri": "https://localhost:8080/",
          "height": 54
        },
        "outputId": "27dced3c-6a2c-465d-9d6b-e989dbf3b9cb"
      },
      "source": [
        "x_train, x_test, y_train, y_test = train_test_split(data[ : , 0], data[ : , 1], test_size = 0.2)\n",
        "\n",
        "model = LinearRegression()\n",
        "model.fit(x_train.reshape(-1,1), y_train)\n",
        "\n",
        "predictions = model.predict(x_test.reshape(-1,1))\n",
        "\n",
        "print(r2_score(y_test, predictions))\n",
        "print(\"An r^2 value this low means that there is no linear relationship between the Sepal Lenght and Sepal Width\")"
      ],
      "execution_count": 887,
      "outputs": [
        {
          "output_type": "stream",
          "text": [
            "0.008078141329276312\n",
            "An r^2 value this low means that there is no linear relationship between the Sepal Lenght and Sepal Width\n"
          ],
          "name": "stdout"
        }
      ]
    },
    {
      "cell_type": "markdown",
      "metadata": {
        "id": "03JUZhi0YSUh",
        "colab_type": "text"
      },
      "source": [
        "##Petal"
      ]
    },
    {
      "cell_type": "code",
      "metadata": {
        "id": "W9rWwS0VX_ek",
        "colab_type": "code",
        "colab": {
          "base_uri": "https://localhost:8080/",
          "height": 54
        },
        "outputId": "a05d07ca-e089-46cd-faf8-276b3859e7a6"
      },
      "source": [
        "x_train, x_test, y_train, y_test = train_test_split(data[ : , 2], data[ : , 3], test_size = 0.2)\n",
        "\n",
        "model = LinearRegression()\n",
        "model.fit(x_train.reshape(-1,1), y_train)\n",
        "\n",
        "predictions = model.predict(x_test.reshape(-1,1))\n",
        "\n",
        "print(r2_score(y_test, predictions))\n",
        "print(\"An r^2 value this high means that there is a strong linear relationship between the Petal Lenght and Petal Width\")"
      ],
      "execution_count": 888,
      "outputs": [
        {
          "output_type": "stream",
          "text": [
            "0.9287539562157361\n",
            "An r^2 value this high means that there is a strong linear relationship between the Petal Lenght and Petal Width\n"
          ],
          "name": "stdout"
        }
      ]
    },
    {
      "cell_type": "markdown",
      "metadata": {
        "id": "md-WbunBYT8C",
        "colab_type": "text"
      },
      "source": [
        "##Sepal and Petal (Logistic)"
      ]
    },
    {
      "cell_type": "code",
      "metadata": {
        "id": "d9DhTH6IYWbY",
        "colab_type": "code",
        "colab": {
          "base_uri": "https://localhost:8080/",
          "height": 199
        },
        "outputId": "d3f46aeb-5e1d-4390-b19c-7a2af2da1b97"
      },
      "source": [
        "x_train, x_test, y_train, y_test = train_test_split(data, labels, test_size = 0.2)\n",
        "\n",
        "model = LogisticRegression()\n",
        "model.fit(x_train, y_train)\n",
        "\n",
        "predictions = model.predict(x_test)\n",
        "print(classification_report(y_test, predictions))"
      ],
      "execution_count": 889,
      "outputs": [
        {
          "output_type": "stream",
          "text": [
            "                 precision    recall  f1-score   support\n",
            "\n",
            "    Iris-setosa       1.00      1.00      1.00         9\n",
            "Iris-versicolor       0.92      0.92      0.92        13\n",
            " Iris-virginica       0.88      0.88      0.88         8\n",
            "\n",
            "       accuracy                           0.93        30\n",
            "      macro avg       0.93      0.93      0.93        30\n",
            "   weighted avg       0.93      0.93      0.93        30\n",
            "\n"
          ],
          "name": "stdout"
        }
      ]
    },
    {
      "cell_type": "markdown",
      "metadata": {
        "id": "eJ_GQ3gdZFd6",
        "colab_type": "text"
      },
      "source": [
        "#K-Nearest Neighbor"
      ]
    },
    {
      "cell_type": "markdown",
      "metadata": {
        "id": "KB4NEZFgOJxl",
        "colab_type": "text"
      },
      "source": [
        "##Data Extraction"
      ]
    },
    {
      "cell_type": "code",
      "metadata": {
        "id": "gfY03wgNZKKw",
        "colab_type": "code",
        "colab": {}
      },
      "source": [
        "#TODO k-d tree\n",
        "\n",
        "url = \"https://archive.ics.uci.edu/ml/machine-learning-databases/iris/iris.data\"\n",
        "\n",
        "header = ['sepal_length', 'sepal_width', 'petal_length', 'petal_width', 'iris_class']\n",
        "dataframe = pd.read_csv(url, names = header)\n",
        "\n",
        "#shuffle dataframe in place\n",
        "dataframe = dataframe.sample(frac=1).reset_index(drop=True)\n",
        "\n",
        "data = dataframe.iloc[:, :-1].values\n",
        "labels = dataframe.iloc[:, -1].values"
      ],
      "execution_count": 890,
      "outputs": []
    },
    {
      "cell_type": "markdown",
      "metadata": {
        "id": "TWAzZ0ScONY6",
        "colab_type": "text"
      },
      "source": [
        "##Euclidean Distance"
      ]
    },
    {
      "cell_type": "code",
      "metadata": {
        "id": "Pa0bgBxHi-15",
        "colab_type": "code",
        "colab": {}
      },
      "source": [
        "def distance(a, b):\n",
        "  #Square root of the sum along the rows of the Square of the difference between a and b... magic, no touch!\n",
        "  #b needs to have the same row shape as a and b needs to be a vector\n",
        "  return np.sqrt(np.sum(np.multiply(np.subtract(a,b),np.subtract(a,b)), axis=1))"
      ],
      "execution_count": 891,
      "outputs": []
    },
    {
      "cell_type": "markdown",
      "metadata": {
        "id": "HapGwbDGOnXy",
        "colab_type": "text"
      },
      "source": [
        "##Partition of Data for Five Fold Cross Validation"
      ]
    },
    {
      "cell_type": "code",
      "metadata": {
        "id": "A-MSgMW6mX8B",
        "colab_type": "code",
        "colab": {}
      },
      "source": [
        "#partition in range(1, 6)\n",
        "def Get_Train_N_Test_Data(x_array, y_array, partition):\n",
        "  part_size = int(y_array.size / 5)\n",
        "  #initialize empty feature vectors\n",
        "\n",
        "  xtest = x_array[part_size*(partition-1) : part_size*partition , : ]\n",
        "  ytest = y_array[ part_size*(partition-1) : part_size*partition ]\n",
        "  \n",
        "  if partition == 1:\n",
        "    xtrain = x_array[part_size*partition : , : ] #grab all skiping first partition\n",
        "    ytrain = y_array[part_size*partition : ] #grab all skiping first partition\n",
        "  else:\n",
        "    xtrain = x_array[ : part_size*(partition-1) , : ] #grab all until training starts\n",
        "    ytrain = y_array[ : part_size*(partition-1)] #grab all until training starts\n",
        "    xtrain = np.append(xtrain, x_array[part_size*(partition) : , : ], axis = 0) #grab all after training ends\n",
        "    ytrain = np.append(ytrain, y_array[part_size*(partition) : ]) #grab all after training ends\n",
        "\n",
        "  return xtrain, xtest, ytrain, ytest"
      ],
      "execution_count": 892,
      "outputs": []
    },
    {
      "cell_type": "markdown",
      "metadata": {
        "id": "Or8g_7aeOVJr",
        "colab_type": "text"
      },
      "source": [
        "##KNN Algorithm"
      ]
    },
    {
      "cell_type": "code",
      "metadata": {
        "id": "cxLpT9NwmXdp",
        "colab_type": "code",
        "colab": {}
      },
      "source": [
        "#returns accuarcy on prediction of test data with train data\n",
        "def Find_Nearest_Neightbor(this_x_train, this_x_test, this_y_train, this_y_test, K):\n",
        "    accuarcy = 0.0\n",
        "    count = 0.0\n",
        "\n",
        "    #Get vector dimensions\n",
        "    rows_train, cols = this_x_train.shape\n",
        "    rows_test = this_y_test.size\n",
        "    \n",
        "    for i in range(rows_test):\n",
        "      dist_train = distance(this_x_train, this_x_test[i,:]) #calcualte distance for each test row along all train points\n",
        "      indexes = np.argpartition(dist_train, K) #Get indexes of the K Nearest Neightbors\n",
        "      correctNeightbors = np.count_nonzero(this_y_test[i] == this_y_train[indexes[:K]]) #Count number of correct neightbors\n",
        "      if correctNeightbors * 2 > K: #more than half of the neightbors are of the correct label\n",
        "        count += 1.0\n",
        "    accuarcy = count / rows_test\n",
        "    return accuarcy"
      ],
      "execution_count": 893,
      "outputs": []
    },
    {
      "cell_type": "code",
      "metadata": {
        "id": "3RD6UxkbmXQN",
        "colab_type": "code",
        "colab": {
          "base_uri": "https://localhost:8080/",
          "height": 90
        },
        "outputId": "17a5da42-5d42-41e5-d95f-4c2ee59a167b"
      },
      "source": [
        "#Different k's to test\n",
        "ks = np.array([1,3,5,7])\n",
        "accuracies = np.zeros(ks.size)\n",
        "\n",
        "for i in range(1,6):\n",
        "  #Partition data for 5 fold cross validation\n",
        "  x_train, x_test, y_train, y_test = Get_Train_N_Test_Data(data, labels, i)\n",
        "  #For each k\n",
        "  for j in range(ks.size):\n",
        "    accuracies[j] += Find_Nearest_Neightbor(x_train, x_test, y_train, y_test, ks[j])\n",
        "accuracies = np.divide(accuracies, 5.0)\n",
        "\n",
        "#Print accuracies\n",
        "for i in range(ks.size):\n",
        "  print(\"Accuarcy of {} Nearest Neightbors: {}\".format(ks[i], accuracies[i]))\n"
      ],
      "execution_count": 894,
      "outputs": [
        {
          "output_type": "stream",
          "text": [
            "Accuarcy of 1 Nearest Neightbors: 0.96\n",
            "Accuarcy of 3 Nearest Neightbors: 0.96\n",
            "Accuarcy of 5 Nearest Neightbors: 0.9733333333333334\n",
            "Accuarcy of 7 Nearest Neightbors: 0.9800000000000001\n"
          ],
          "name": "stdout"
        }
      ]
    }
  ]
}