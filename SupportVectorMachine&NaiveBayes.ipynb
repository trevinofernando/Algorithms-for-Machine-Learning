{
  "nbformat": 4,
  "nbformat_minor": 0,
  "metadata": {
    "colab": {
      "name": "SupportVectorMachine&NaiveBayes.ipynb",
      "provenance": [],
      "collapsed_sections": [],
      "authorship_tag": "ABX9TyNjMgtnc153PWjOwkxNXjW+",
      "include_colab_link": true
    },
    "kernelspec": {
      "name": "python3",
      "display_name": "Python 3"
    }
  },
  "cells": [
    {
      "cell_type": "markdown",
      "metadata": {
        "id": "view-in-github",
        "colab_type": "text"
      },
      "source": [
        "<a href=\"https://colab.research.google.com/github/trevinofernando/Algorithms-for-Machine-Learning/blob/master/SupportVectorMachine%26NaiveBayes.ipynb\" target=\"_parent\"><img src=\"https://colab.research.google.com/assets/colab-badge.svg\" alt=\"Open In Colab\"/></a>"
      ]
    },
    {
      "cell_type": "code",
      "metadata": {
        "id": "6bvwIiN0vbIP"
      },
      "source": [
        "import numpy as np\n",
        "import pandas as pd\n",
        "import matplotlib.pyplot as plt\n",
        "from sklearn.model_selection import train_test_split\n",
        "from IPython.display import display, HTML"
      ],
      "execution_count": 29,
      "outputs": []
    },
    {
      "cell_type": "markdown",
      "metadata": {
        "id": "YWxL_WVOf_PX"
      },
      "source": [
        "#Glass Dataset"
      ]
    },
    {
      "cell_type": "code",
      "metadata": {
        "id": "GiRupRCJf6zF"
      },
      "source": [
        "url = \"https://archive.ics.uci.edu/ml/machine-learning-databases/glass/glass.data\""
      ],
      "execution_count": 30,
      "outputs": []
    },
    {
      "cell_type": "markdown",
      "metadata": {
        "id": "bLdbrQRAgE2T"
      },
      "source": [
        "###Features"
      ]
    },
    {
      "cell_type": "markdown",
      "metadata": {
        "id": "TgzvRKeYgJ6T"
      },
      "source": [
        "The features in the Glass dataset are: Refractive_index and the levels of Sodium, Magnesium, Aluminum, Silicon, Potassium, Calcium, Barium and Iron as a weight percent."
      ]
    },
    {
      "cell_type": "code",
      "metadata": {
        "id": "4ce-EA0hgoEU"
      },
      "source": [
        "header = ['Id', 'Refractive_index', 'Sodium', 'Magnesium', 'Aluminum', 'Silicon', 'Potassium', 'Calcium', 'Barium', 'Iron', 'class']"
      ],
      "execution_count": 31,
      "outputs": []
    },
    {
      "cell_type": "markdown",
      "metadata": {
        "id": "_Mxr2wiKgqhM"
      },
      "source": [
        "###Classes"
      ]
    },
    {
      "cell_type": "markdown",
      "metadata": {
        "id": "O-LzsIa2guYC"
      },
      "source": [
        "The classes in the Glass dataset include: building windows float processed and non float processed, vehicle windows float processed and non float processed, containers, tableware and headlamps."
      ]
    },
    {
      "cell_type": "code",
      "metadata": {
        "id": "3oQss696hXsi"
      },
      "source": [
        "classes = ['', 'building_windows_float_processed', 'building_windows_non_float_processed', 'vehicle_windows_float_processed', 'vehicle_windows_non_float_processed', 'containers', 'tableware', 'headlamps']"
      ],
      "execution_count": 32,
      "outputs": []
    },
    {
      "cell_type": "markdown",
      "metadata": {
        "id": "PudlNWxTn2jj"
      },
      "source": [
        "###Data Exploration"
      ]
    },
    {
      "cell_type": "code",
      "metadata": {
        "id": "_jW3SmCzveoW",
        "outputId": "613c9a2b-83f6-4284-a410-2fd6388106e4",
        "colab": {
          "base_uri": "https://localhost:8080/",
          "height": 696
        }
      },
      "source": [
        "dataframe = pd.read_csv(url, names = header)\n",
        "\n",
        " #remove Id column which won't be used\n",
        "header.remove('Id')\n",
        "dataframe = dataframe.drop('Id', axis=1)\n",
        "\n",
        "display(HTML(dataframe.describe().to_html()))\n",
        "print(\"======================================================================================================\")\n",
        "dataframe"
      ],
      "execution_count": 33,
      "outputs": [
        {
          "output_type": "display_data",
          "data": {
            "text/html": [
              "<table border=\"1\" class=\"dataframe\">\n",
              "  <thead>\n",
              "    <tr style=\"text-align: right;\">\n",
              "      <th></th>\n",
              "      <th>Refractive_index</th>\n",
              "      <th>Sodium</th>\n",
              "      <th>Magnesium</th>\n",
              "      <th>Aluminum</th>\n",
              "      <th>Silicon</th>\n",
              "      <th>Potassium</th>\n",
              "      <th>Calcium</th>\n",
              "      <th>Barium</th>\n",
              "      <th>Iron</th>\n",
              "      <th>class</th>\n",
              "    </tr>\n",
              "  </thead>\n",
              "  <tbody>\n",
              "    <tr>\n",
              "      <th>count</th>\n",
              "      <td>214.000000</td>\n",
              "      <td>214.000000</td>\n",
              "      <td>214.000000</td>\n",
              "      <td>214.000000</td>\n",
              "      <td>214.000000</td>\n",
              "      <td>214.000000</td>\n",
              "      <td>214.000000</td>\n",
              "      <td>214.000000</td>\n",
              "      <td>214.000000</td>\n",
              "      <td>214.000000</td>\n",
              "    </tr>\n",
              "    <tr>\n",
              "      <th>mean</th>\n",
              "      <td>1.518365</td>\n",
              "      <td>13.407850</td>\n",
              "      <td>2.684533</td>\n",
              "      <td>1.444907</td>\n",
              "      <td>72.650935</td>\n",
              "      <td>0.497056</td>\n",
              "      <td>8.956963</td>\n",
              "      <td>0.175047</td>\n",
              "      <td>0.057009</td>\n",
              "      <td>2.780374</td>\n",
              "    </tr>\n",
              "    <tr>\n",
              "      <th>std</th>\n",
              "      <td>0.003037</td>\n",
              "      <td>0.816604</td>\n",
              "      <td>1.442408</td>\n",
              "      <td>0.499270</td>\n",
              "      <td>0.774546</td>\n",
              "      <td>0.652192</td>\n",
              "      <td>1.423153</td>\n",
              "      <td>0.497219</td>\n",
              "      <td>0.097439</td>\n",
              "      <td>2.103739</td>\n",
              "    </tr>\n",
              "    <tr>\n",
              "      <th>min</th>\n",
              "      <td>1.511150</td>\n",
              "      <td>10.730000</td>\n",
              "      <td>0.000000</td>\n",
              "      <td>0.290000</td>\n",
              "      <td>69.810000</td>\n",
              "      <td>0.000000</td>\n",
              "      <td>5.430000</td>\n",
              "      <td>0.000000</td>\n",
              "      <td>0.000000</td>\n",
              "      <td>1.000000</td>\n",
              "    </tr>\n",
              "    <tr>\n",
              "      <th>25%</th>\n",
              "      <td>1.516523</td>\n",
              "      <td>12.907500</td>\n",
              "      <td>2.115000</td>\n",
              "      <td>1.190000</td>\n",
              "      <td>72.280000</td>\n",
              "      <td>0.122500</td>\n",
              "      <td>8.240000</td>\n",
              "      <td>0.000000</td>\n",
              "      <td>0.000000</td>\n",
              "      <td>1.000000</td>\n",
              "    </tr>\n",
              "    <tr>\n",
              "      <th>50%</th>\n",
              "      <td>1.517680</td>\n",
              "      <td>13.300000</td>\n",
              "      <td>3.480000</td>\n",
              "      <td>1.360000</td>\n",
              "      <td>72.790000</td>\n",
              "      <td>0.555000</td>\n",
              "      <td>8.600000</td>\n",
              "      <td>0.000000</td>\n",
              "      <td>0.000000</td>\n",
              "      <td>2.000000</td>\n",
              "    </tr>\n",
              "    <tr>\n",
              "      <th>75%</th>\n",
              "      <td>1.519157</td>\n",
              "      <td>13.825000</td>\n",
              "      <td>3.600000</td>\n",
              "      <td>1.630000</td>\n",
              "      <td>73.087500</td>\n",
              "      <td>0.610000</td>\n",
              "      <td>9.172500</td>\n",
              "      <td>0.000000</td>\n",
              "      <td>0.100000</td>\n",
              "      <td>3.000000</td>\n",
              "    </tr>\n",
              "    <tr>\n",
              "      <th>max</th>\n",
              "      <td>1.533930</td>\n",
              "      <td>17.380000</td>\n",
              "      <td>4.490000</td>\n",
              "      <td>3.500000</td>\n",
              "      <td>75.410000</td>\n",
              "      <td>6.210000</td>\n",
              "      <td>16.190000</td>\n",
              "      <td>3.150000</td>\n",
              "      <td>0.510000</td>\n",
              "      <td>7.000000</td>\n",
              "    </tr>\n",
              "  </tbody>\n",
              "</table>"
            ],
            "text/plain": [
              "<IPython.core.display.HTML object>"
            ]
          },
          "metadata": {
            "tags": []
          }
        },
        {
          "output_type": "stream",
          "text": [
            "======================================================================================================\n"
          ],
          "name": "stdout"
        },
        {
          "output_type": "execute_result",
          "data": {
            "text/html": [
              "<div>\n",
              "<style scoped>\n",
              "    .dataframe tbody tr th:only-of-type {\n",
              "        vertical-align: middle;\n",
              "    }\n",
              "\n",
              "    .dataframe tbody tr th {\n",
              "        vertical-align: top;\n",
              "    }\n",
              "\n",
              "    .dataframe thead th {\n",
              "        text-align: right;\n",
              "    }\n",
              "</style>\n",
              "<table border=\"1\" class=\"dataframe\">\n",
              "  <thead>\n",
              "    <tr style=\"text-align: right;\">\n",
              "      <th></th>\n",
              "      <th>Refractive_index</th>\n",
              "      <th>Sodium</th>\n",
              "      <th>Magnesium</th>\n",
              "      <th>Aluminum</th>\n",
              "      <th>Silicon</th>\n",
              "      <th>Potassium</th>\n",
              "      <th>Calcium</th>\n",
              "      <th>Barium</th>\n",
              "      <th>Iron</th>\n",
              "      <th>class</th>\n",
              "    </tr>\n",
              "  </thead>\n",
              "  <tbody>\n",
              "    <tr>\n",
              "      <th>0</th>\n",
              "      <td>1.52101</td>\n",
              "      <td>13.64</td>\n",
              "      <td>4.49</td>\n",
              "      <td>1.10</td>\n",
              "      <td>71.78</td>\n",
              "      <td>0.06</td>\n",
              "      <td>8.75</td>\n",
              "      <td>0.00</td>\n",
              "      <td>0.0</td>\n",
              "      <td>1</td>\n",
              "    </tr>\n",
              "    <tr>\n",
              "      <th>1</th>\n",
              "      <td>1.51761</td>\n",
              "      <td>13.89</td>\n",
              "      <td>3.60</td>\n",
              "      <td>1.36</td>\n",
              "      <td>72.73</td>\n",
              "      <td>0.48</td>\n",
              "      <td>7.83</td>\n",
              "      <td>0.00</td>\n",
              "      <td>0.0</td>\n",
              "      <td>1</td>\n",
              "    </tr>\n",
              "    <tr>\n",
              "      <th>2</th>\n",
              "      <td>1.51618</td>\n",
              "      <td>13.53</td>\n",
              "      <td>3.55</td>\n",
              "      <td>1.54</td>\n",
              "      <td>72.99</td>\n",
              "      <td>0.39</td>\n",
              "      <td>7.78</td>\n",
              "      <td>0.00</td>\n",
              "      <td>0.0</td>\n",
              "      <td>1</td>\n",
              "    </tr>\n",
              "    <tr>\n",
              "      <th>3</th>\n",
              "      <td>1.51766</td>\n",
              "      <td>13.21</td>\n",
              "      <td>3.69</td>\n",
              "      <td>1.29</td>\n",
              "      <td>72.61</td>\n",
              "      <td>0.57</td>\n",
              "      <td>8.22</td>\n",
              "      <td>0.00</td>\n",
              "      <td>0.0</td>\n",
              "      <td>1</td>\n",
              "    </tr>\n",
              "    <tr>\n",
              "      <th>4</th>\n",
              "      <td>1.51742</td>\n",
              "      <td>13.27</td>\n",
              "      <td>3.62</td>\n",
              "      <td>1.24</td>\n",
              "      <td>73.08</td>\n",
              "      <td>0.55</td>\n",
              "      <td>8.07</td>\n",
              "      <td>0.00</td>\n",
              "      <td>0.0</td>\n",
              "      <td>1</td>\n",
              "    </tr>\n",
              "    <tr>\n",
              "      <th>...</th>\n",
              "      <td>...</td>\n",
              "      <td>...</td>\n",
              "      <td>...</td>\n",
              "      <td>...</td>\n",
              "      <td>...</td>\n",
              "      <td>...</td>\n",
              "      <td>...</td>\n",
              "      <td>...</td>\n",
              "      <td>...</td>\n",
              "      <td>...</td>\n",
              "    </tr>\n",
              "    <tr>\n",
              "      <th>209</th>\n",
              "      <td>1.51623</td>\n",
              "      <td>14.14</td>\n",
              "      <td>0.00</td>\n",
              "      <td>2.88</td>\n",
              "      <td>72.61</td>\n",
              "      <td>0.08</td>\n",
              "      <td>9.18</td>\n",
              "      <td>1.06</td>\n",
              "      <td>0.0</td>\n",
              "      <td>7</td>\n",
              "    </tr>\n",
              "    <tr>\n",
              "      <th>210</th>\n",
              "      <td>1.51685</td>\n",
              "      <td>14.92</td>\n",
              "      <td>0.00</td>\n",
              "      <td>1.99</td>\n",
              "      <td>73.06</td>\n",
              "      <td>0.00</td>\n",
              "      <td>8.40</td>\n",
              "      <td>1.59</td>\n",
              "      <td>0.0</td>\n",
              "      <td>7</td>\n",
              "    </tr>\n",
              "    <tr>\n",
              "      <th>211</th>\n",
              "      <td>1.52065</td>\n",
              "      <td>14.36</td>\n",
              "      <td>0.00</td>\n",
              "      <td>2.02</td>\n",
              "      <td>73.42</td>\n",
              "      <td>0.00</td>\n",
              "      <td>8.44</td>\n",
              "      <td>1.64</td>\n",
              "      <td>0.0</td>\n",
              "      <td>7</td>\n",
              "    </tr>\n",
              "    <tr>\n",
              "      <th>212</th>\n",
              "      <td>1.51651</td>\n",
              "      <td>14.38</td>\n",
              "      <td>0.00</td>\n",
              "      <td>1.94</td>\n",
              "      <td>73.61</td>\n",
              "      <td>0.00</td>\n",
              "      <td>8.48</td>\n",
              "      <td>1.57</td>\n",
              "      <td>0.0</td>\n",
              "      <td>7</td>\n",
              "    </tr>\n",
              "    <tr>\n",
              "      <th>213</th>\n",
              "      <td>1.51711</td>\n",
              "      <td>14.23</td>\n",
              "      <td>0.00</td>\n",
              "      <td>2.08</td>\n",
              "      <td>73.36</td>\n",
              "      <td>0.00</td>\n",
              "      <td>8.62</td>\n",
              "      <td>1.67</td>\n",
              "      <td>0.0</td>\n",
              "      <td>7</td>\n",
              "    </tr>\n",
              "  </tbody>\n",
              "</table>\n",
              "<p>214 rows × 10 columns</p>\n",
              "</div>"
            ],
            "text/plain": [
              "     Refractive_index  Sodium  Magnesium  ...  Barium  Iron  class\n",
              "0             1.52101   13.64       4.49  ...    0.00   0.0      1\n",
              "1             1.51761   13.89       3.60  ...    0.00   0.0      1\n",
              "2             1.51618   13.53       3.55  ...    0.00   0.0      1\n",
              "3             1.51766   13.21       3.69  ...    0.00   0.0      1\n",
              "4             1.51742   13.27       3.62  ...    0.00   0.0      1\n",
              "..                ...     ...        ...  ...     ...   ...    ...\n",
              "209           1.51623   14.14       0.00  ...    1.06   0.0      7\n",
              "210           1.51685   14.92       0.00  ...    1.59   0.0      7\n",
              "211           1.52065   14.36       0.00  ...    1.64   0.0      7\n",
              "212           1.51651   14.38       0.00  ...    1.57   0.0      7\n",
              "213           1.51711   14.23       0.00  ...    1.67   0.0      7\n",
              "\n",
              "[214 rows x 10 columns]"
            ]
          },
          "metadata": {
            "tags": []
          },
          "execution_count": 33
        }
      ]
    },
    {
      "cell_type": "markdown",
      "metadata": {
        "id": "OkNP9_J4m0cQ"
      },
      "source": [
        "###Class Prior"
      ]
    },
    {
      "cell_type": "markdown",
      "metadata": {
        "id": "NOBb-bL6qJZ1"
      },
      "source": [
        "We can see that the data isn't balanced beacuase more than 65% of the entries are classified with only 2 labels: 1 and 2 (building_windows_float_processed and building_windows_non_float_processed). No entry is classified with class 4 (vehicle_windows_non_float_processed) and the other 4 classes only represent about 30% of the data."
      ]
    },
    {
      "cell_type": "code",
      "metadata": {
        "id": "CHSk86sjn66y",
        "outputId": "4bdaa02b-f901-4bc9-8ccb-373772910b38",
        "colab": {
          "base_uri": "https://localhost:8080/",
          "height": 0
        }
      },
      "source": [
        "#Get priors\n",
        "priors = dataframe['class'].value_counts(sort=False, normalize=True)\n",
        "\n",
        "#initialize a series filled with 0's for all classes\n",
        "empty_priors = pd.Series([0.000000 for i in range(len(classes)-1)], index=range(1,len(classes)))\n",
        "\n",
        "#add both series to add the missing classes (class 4)\n",
        "priors = priors.add(empty_priors, fill_value=0)\n",
        "print(priors)"
      ],
      "execution_count": 34,
      "outputs": [
        {
          "output_type": "stream",
          "text": [
            "1    0.327103\n",
            "2    0.355140\n",
            "3    0.079439\n",
            "4    0.000000\n",
            "5    0.060748\n",
            "6    0.042056\n",
            "7    0.135514\n",
            "dtype: float64\n"
          ],
          "name": "stdout"
        }
      ]
    },
    {
      "cell_type": "markdown",
      "metadata": {
        "id": "lhr2N0ekDA8G"
      },
      "source": [
        "###Entropy of the class prior distribution"
      ]
    },
    {
      "cell_type": "markdown",
      "metadata": {
        "id": "olzBWYdwFWzO"
      },
      "source": [
        "entropy = -sum(prior * log(prior))"
      ]
    },
    {
      "cell_type": "code",
      "metadata": {
        "id": "aCBDn0v7DVCL",
        "outputId": "ad6e729f-bbb6-41a4-fea2-d050371f89be",
        "colab": {
          "base_uri": "https://localhost:8080/",
          "height": 0
        }
      },
      "source": [
        "from scipy.stats import entropy\n",
        "entropy(priors, base = 2)"
      ],
      "execution_count": 35,
      "outputs": [
        {
          "output_type": "execute_result",
          "data": {
            "text/plain": [
              "2.1765339923982006"
            ]
          },
          "metadata": {
            "tags": []
          },
          "execution_count": 35
        }
      ]
    },
    {
      "cell_type": "markdown",
      "metadata": {
        "id": "1S587ORRrshy"
      },
      "source": [
        "###Mean and Standard Deviation of each class"
      ]
    },
    {
      "cell_type": "code",
      "metadata": {
        "id": "ILfy3YsAgvSG",
        "outputId": "e4e545ad-9c38-4cf8-bd68-df2c6332aad7",
        "colab": {
          "base_uri": "https://localhost:8080/",
          "height": 572
        }
      },
      "source": [
        "df_by_class = dataframe.groupby(['class'])\n",
        "print(\"Mean:\")\n",
        "#dataframe.describe().loc[['mean']].iloc[:, 0:-1]\n",
        "means = df_by_class.mean()\n",
        "display(means)\n",
        "print(\"\\n\\nStandard Deviation:\")\n",
        "stds = df_by_class.std()\n",
        "display(HTML(stds.to_html()))\n"
      ],
      "execution_count": 36,
      "outputs": [
        {
          "output_type": "stream",
          "text": [
            "Mean:\n"
          ],
          "name": "stdout"
        },
        {
          "output_type": "display_data",
          "data": {
            "text/html": [
              "<div>\n",
              "<style scoped>\n",
              "    .dataframe tbody tr th:only-of-type {\n",
              "        vertical-align: middle;\n",
              "    }\n",
              "\n",
              "    .dataframe tbody tr th {\n",
              "        vertical-align: top;\n",
              "    }\n",
              "\n",
              "    .dataframe thead th {\n",
              "        text-align: right;\n",
              "    }\n",
              "</style>\n",
              "<table border=\"1\" class=\"dataframe\">\n",
              "  <thead>\n",
              "    <tr style=\"text-align: right;\">\n",
              "      <th></th>\n",
              "      <th>Refractive_index</th>\n",
              "      <th>Sodium</th>\n",
              "      <th>Magnesium</th>\n",
              "      <th>Aluminum</th>\n",
              "      <th>Silicon</th>\n",
              "      <th>Potassium</th>\n",
              "      <th>Calcium</th>\n",
              "      <th>Barium</th>\n",
              "      <th>Iron</th>\n",
              "    </tr>\n",
              "    <tr>\n",
              "      <th>class</th>\n",
              "      <th></th>\n",
              "      <th></th>\n",
              "      <th></th>\n",
              "      <th></th>\n",
              "      <th></th>\n",
              "      <th></th>\n",
              "      <th></th>\n",
              "      <th></th>\n",
              "      <th></th>\n",
              "    </tr>\n",
              "  </thead>\n",
              "  <tbody>\n",
              "    <tr>\n",
              "      <th>1</th>\n",
              "      <td>1.518718</td>\n",
              "      <td>13.242286</td>\n",
              "      <td>3.552429</td>\n",
              "      <td>1.163857</td>\n",
              "      <td>72.619143</td>\n",
              "      <td>0.447429</td>\n",
              "      <td>8.797286</td>\n",
              "      <td>0.012714</td>\n",
              "      <td>0.057000</td>\n",
              "    </tr>\n",
              "    <tr>\n",
              "      <th>2</th>\n",
              "      <td>1.518619</td>\n",
              "      <td>13.111711</td>\n",
              "      <td>3.002105</td>\n",
              "      <td>1.408158</td>\n",
              "      <td>72.598026</td>\n",
              "      <td>0.521053</td>\n",
              "      <td>9.073684</td>\n",
              "      <td>0.050263</td>\n",
              "      <td>0.079737</td>\n",
              "    </tr>\n",
              "    <tr>\n",
              "      <th>3</th>\n",
              "      <td>1.517964</td>\n",
              "      <td>13.437059</td>\n",
              "      <td>3.543529</td>\n",
              "      <td>1.201176</td>\n",
              "      <td>72.404706</td>\n",
              "      <td>0.406471</td>\n",
              "      <td>8.782941</td>\n",
              "      <td>0.008824</td>\n",
              "      <td>0.057059</td>\n",
              "    </tr>\n",
              "    <tr>\n",
              "      <th>5</th>\n",
              "      <td>1.518928</td>\n",
              "      <td>12.827692</td>\n",
              "      <td>0.773846</td>\n",
              "      <td>2.033846</td>\n",
              "      <td>72.366154</td>\n",
              "      <td>1.470000</td>\n",
              "      <td>10.123846</td>\n",
              "      <td>0.187692</td>\n",
              "      <td>0.060769</td>\n",
              "    </tr>\n",
              "    <tr>\n",
              "      <th>6</th>\n",
              "      <td>1.517456</td>\n",
              "      <td>14.646667</td>\n",
              "      <td>1.305556</td>\n",
              "      <td>1.366667</td>\n",
              "      <td>73.206667</td>\n",
              "      <td>0.000000</td>\n",
              "      <td>9.356667</td>\n",
              "      <td>0.000000</td>\n",
              "      <td>0.000000</td>\n",
              "    </tr>\n",
              "    <tr>\n",
              "      <th>7</th>\n",
              "      <td>1.517116</td>\n",
              "      <td>14.442069</td>\n",
              "      <td>0.538276</td>\n",
              "      <td>2.122759</td>\n",
              "      <td>72.965862</td>\n",
              "      <td>0.325172</td>\n",
              "      <td>8.491379</td>\n",
              "      <td>1.040000</td>\n",
              "      <td>0.013448</td>\n",
              "    </tr>\n",
              "  </tbody>\n",
              "</table>\n",
              "</div>"
            ],
            "text/plain": [
              "       Refractive_index     Sodium  Magnesium  ...    Calcium    Barium      Iron\n",
              "class                                          ...                               \n",
              "1              1.518718  13.242286   3.552429  ...   8.797286  0.012714  0.057000\n",
              "2              1.518619  13.111711   3.002105  ...   9.073684  0.050263  0.079737\n",
              "3              1.517964  13.437059   3.543529  ...   8.782941  0.008824  0.057059\n",
              "5              1.518928  12.827692   0.773846  ...  10.123846  0.187692  0.060769\n",
              "6              1.517456  14.646667   1.305556  ...   9.356667  0.000000  0.000000\n",
              "7              1.517116  14.442069   0.538276  ...   8.491379  1.040000  0.013448\n",
              "\n",
              "[6 rows x 9 columns]"
            ]
          },
          "metadata": {
            "tags": []
          }
        },
        {
          "output_type": "stream",
          "text": [
            "\n",
            "\n",
            "Standard Deviation:\n"
          ],
          "name": "stdout"
        },
        {
          "output_type": "display_data",
          "data": {
            "text/html": [
              "<table border=\"1\" class=\"dataframe\">\n",
              "  <thead>\n",
              "    <tr style=\"text-align: right;\">\n",
              "      <th></th>\n",
              "      <th>Refractive_index</th>\n",
              "      <th>Sodium</th>\n",
              "      <th>Magnesium</th>\n",
              "      <th>Aluminum</th>\n",
              "      <th>Silicon</th>\n",
              "      <th>Potassium</th>\n",
              "      <th>Calcium</th>\n",
              "      <th>Barium</th>\n",
              "      <th>Iron</th>\n",
              "    </tr>\n",
              "    <tr>\n",
              "      <th>class</th>\n",
              "      <th></th>\n",
              "      <th></th>\n",
              "      <th></th>\n",
              "      <th></th>\n",
              "      <th></th>\n",
              "      <th></th>\n",
              "      <th></th>\n",
              "      <th></th>\n",
              "      <th></th>\n",
              "    </tr>\n",
              "  </thead>\n",
              "  <tbody>\n",
              "    <tr>\n",
              "      <th>1</th>\n",
              "      <td>0.002268</td>\n",
              "      <td>0.499301</td>\n",
              "      <td>0.247043</td>\n",
              "      <td>0.273158</td>\n",
              "      <td>0.569484</td>\n",
              "      <td>0.214879</td>\n",
              "      <td>0.574807</td>\n",
              "      <td>0.083838</td>\n",
              "      <td>0.089075</td>\n",
              "    </tr>\n",
              "    <tr>\n",
              "      <th>2</th>\n",
              "      <td>0.003802</td>\n",
              "      <td>0.664159</td>\n",
              "      <td>1.215661</td>\n",
              "      <td>0.318340</td>\n",
              "      <td>0.724573</td>\n",
              "      <td>0.213726</td>\n",
              "      <td>1.921635</td>\n",
              "      <td>0.362340</td>\n",
              "      <td>0.106433</td>\n",
              "    </tr>\n",
              "    <tr>\n",
              "      <th>3</th>\n",
              "      <td>0.001916</td>\n",
              "      <td>0.506887</td>\n",
              "      <td>0.162786</td>\n",
              "      <td>0.347489</td>\n",
              "      <td>0.512276</td>\n",
              "      <td>0.229890</td>\n",
              "      <td>0.380111</td>\n",
              "      <td>0.036380</td>\n",
              "      <td>0.107864</td>\n",
              "    </tr>\n",
              "    <tr>\n",
              "      <th>5</th>\n",
              "      <td>0.003345</td>\n",
              "      <td>0.777037</td>\n",
              "      <td>0.999146</td>\n",
              "      <td>0.693920</td>\n",
              "      <td>1.282319</td>\n",
              "      <td>2.138695</td>\n",
              "      <td>2.183791</td>\n",
              "      <td>0.608251</td>\n",
              "      <td>0.155588</td>\n",
              "    </tr>\n",
              "    <tr>\n",
              "      <th>6</th>\n",
              "      <td>0.003116</td>\n",
              "      <td>1.084020</td>\n",
              "      <td>1.097134</td>\n",
              "      <td>0.571861</td>\n",
              "      <td>1.079467</td>\n",
              "      <td>0.000000</td>\n",
              "      <td>1.449948</td>\n",
              "      <td>0.000000</td>\n",
              "      <td>0.000000</td>\n",
              "    </tr>\n",
              "    <tr>\n",
              "      <th>7</th>\n",
              "      <td>0.002545</td>\n",
              "      <td>0.686359</td>\n",
              "      <td>1.117683</td>\n",
              "      <td>0.442726</td>\n",
              "      <td>0.940234</td>\n",
              "      <td>0.668493</td>\n",
              "      <td>0.973505</td>\n",
              "      <td>0.665341</td>\n",
              "      <td>0.029794</td>\n",
              "    </tr>\n",
              "  </tbody>\n",
              "</table>"
            ],
            "text/plain": [
              "<IPython.core.display.HTML object>"
            ]
          },
          "metadata": {
            "tags": []
          }
        }
      ]
    },
    {
      "cell_type": "code",
      "metadata": {
        "id": "aDBmrxptVsYW",
        "outputId": "9b5a7d8c-5e27-4e1b-df8b-82f3080977d1",
        "colab": {
          "base_uri": "https://localhost:8080/",
          "height": 2408
        }
      },
      "source": [
        "data = np.array([0.000000 for entry in range(len(header))])\n",
        "emptyEntry = pd.Series(data,index=header)\n",
        "\n",
        "stats = {}\n",
        "for i in range(1, len(classes)):\n",
        "    if not i in means.index:\n",
        "      stats[classes[i]] = pd.DataFrame({'Mean': emptyEntry, 'Std': emptyEntry})\n",
        "    else:\n",
        "      stats[classes[i]] = means.loc[i].to_frame(name = 'Mean')\n",
        "      stats[classes[i]] = stats[classes[i]].join(stds.loc[i].to_frame(name = 'Std'))\n",
        "\n",
        "for cl in classes[1:]:\n",
        "  print('\\nMean and Standard deviation for class \"{0}\" shown below:'.format(cl))\n",
        "  display(stats[cl])"
      ],
      "execution_count": 37,
      "outputs": [
        {
          "output_type": "stream",
          "text": [
            "\n",
            "Mean and Standard deviation for class \"building_windows_float_processed\" shown below:\n"
          ],
          "name": "stdout"
        },
        {
          "output_type": "display_data",
          "data": {
            "text/html": [
              "<div>\n",
              "<style scoped>\n",
              "    .dataframe tbody tr th:only-of-type {\n",
              "        vertical-align: middle;\n",
              "    }\n",
              "\n",
              "    .dataframe tbody tr th {\n",
              "        vertical-align: top;\n",
              "    }\n",
              "\n",
              "    .dataframe thead th {\n",
              "        text-align: right;\n",
              "    }\n",
              "</style>\n",
              "<table border=\"1\" class=\"dataframe\">\n",
              "  <thead>\n",
              "    <tr style=\"text-align: right;\">\n",
              "      <th></th>\n",
              "      <th>Mean</th>\n",
              "      <th>Std</th>\n",
              "    </tr>\n",
              "  </thead>\n",
              "  <tbody>\n",
              "    <tr>\n",
              "      <th>Refractive_index</th>\n",
              "      <td>1.518718</td>\n",
              "      <td>0.002268</td>\n",
              "    </tr>\n",
              "    <tr>\n",
              "      <th>Sodium</th>\n",
              "      <td>13.242286</td>\n",
              "      <td>0.499301</td>\n",
              "    </tr>\n",
              "    <tr>\n",
              "      <th>Magnesium</th>\n",
              "      <td>3.552429</td>\n",
              "      <td>0.247043</td>\n",
              "    </tr>\n",
              "    <tr>\n",
              "      <th>Aluminum</th>\n",
              "      <td>1.163857</td>\n",
              "      <td>0.273158</td>\n",
              "    </tr>\n",
              "    <tr>\n",
              "      <th>Silicon</th>\n",
              "      <td>72.619143</td>\n",
              "      <td>0.569484</td>\n",
              "    </tr>\n",
              "    <tr>\n",
              "      <th>Potassium</th>\n",
              "      <td>0.447429</td>\n",
              "      <td>0.214879</td>\n",
              "    </tr>\n",
              "    <tr>\n",
              "      <th>Calcium</th>\n",
              "      <td>8.797286</td>\n",
              "      <td>0.574807</td>\n",
              "    </tr>\n",
              "    <tr>\n",
              "      <th>Barium</th>\n",
              "      <td>0.012714</td>\n",
              "      <td>0.083838</td>\n",
              "    </tr>\n",
              "    <tr>\n",
              "      <th>Iron</th>\n",
              "      <td>0.057000</td>\n",
              "      <td>0.089075</td>\n",
              "    </tr>\n",
              "  </tbody>\n",
              "</table>\n",
              "</div>"
            ],
            "text/plain": [
              "                       Mean       Std\n",
              "Refractive_index   1.518718  0.002268\n",
              "Sodium            13.242286  0.499301\n",
              "Magnesium          3.552429  0.247043\n",
              "Aluminum           1.163857  0.273158\n",
              "Silicon           72.619143  0.569484\n",
              "Potassium          0.447429  0.214879\n",
              "Calcium            8.797286  0.574807\n",
              "Barium             0.012714  0.083838\n",
              "Iron               0.057000  0.089075"
            ]
          },
          "metadata": {
            "tags": []
          }
        },
        {
          "output_type": "stream",
          "text": [
            "\n",
            "Mean and Standard deviation for class \"building_windows_non_float_processed\" shown below:\n"
          ],
          "name": "stdout"
        },
        {
          "output_type": "display_data",
          "data": {
            "text/html": [
              "<div>\n",
              "<style scoped>\n",
              "    .dataframe tbody tr th:only-of-type {\n",
              "        vertical-align: middle;\n",
              "    }\n",
              "\n",
              "    .dataframe tbody tr th {\n",
              "        vertical-align: top;\n",
              "    }\n",
              "\n",
              "    .dataframe thead th {\n",
              "        text-align: right;\n",
              "    }\n",
              "</style>\n",
              "<table border=\"1\" class=\"dataframe\">\n",
              "  <thead>\n",
              "    <tr style=\"text-align: right;\">\n",
              "      <th></th>\n",
              "      <th>Mean</th>\n",
              "      <th>Std</th>\n",
              "    </tr>\n",
              "  </thead>\n",
              "  <tbody>\n",
              "    <tr>\n",
              "      <th>Refractive_index</th>\n",
              "      <td>1.518619</td>\n",
              "      <td>0.003802</td>\n",
              "    </tr>\n",
              "    <tr>\n",
              "      <th>Sodium</th>\n",
              "      <td>13.111711</td>\n",
              "      <td>0.664159</td>\n",
              "    </tr>\n",
              "    <tr>\n",
              "      <th>Magnesium</th>\n",
              "      <td>3.002105</td>\n",
              "      <td>1.215661</td>\n",
              "    </tr>\n",
              "    <tr>\n",
              "      <th>Aluminum</th>\n",
              "      <td>1.408158</td>\n",
              "      <td>0.318340</td>\n",
              "    </tr>\n",
              "    <tr>\n",
              "      <th>Silicon</th>\n",
              "      <td>72.598026</td>\n",
              "      <td>0.724573</td>\n",
              "    </tr>\n",
              "    <tr>\n",
              "      <th>Potassium</th>\n",
              "      <td>0.521053</td>\n",
              "      <td>0.213726</td>\n",
              "    </tr>\n",
              "    <tr>\n",
              "      <th>Calcium</th>\n",
              "      <td>9.073684</td>\n",
              "      <td>1.921635</td>\n",
              "    </tr>\n",
              "    <tr>\n",
              "      <th>Barium</th>\n",
              "      <td>0.050263</td>\n",
              "      <td>0.362340</td>\n",
              "    </tr>\n",
              "    <tr>\n",
              "      <th>Iron</th>\n",
              "      <td>0.079737</td>\n",
              "      <td>0.106433</td>\n",
              "    </tr>\n",
              "  </tbody>\n",
              "</table>\n",
              "</div>"
            ],
            "text/plain": [
              "                       Mean       Std\n",
              "Refractive_index   1.518619  0.003802\n",
              "Sodium            13.111711  0.664159\n",
              "Magnesium          3.002105  1.215661\n",
              "Aluminum           1.408158  0.318340\n",
              "Silicon           72.598026  0.724573\n",
              "Potassium          0.521053  0.213726\n",
              "Calcium            9.073684  1.921635\n",
              "Barium             0.050263  0.362340\n",
              "Iron               0.079737  0.106433"
            ]
          },
          "metadata": {
            "tags": []
          }
        },
        {
          "output_type": "stream",
          "text": [
            "\n",
            "Mean and Standard deviation for class \"vehicle_windows_float_processed\" shown below:\n"
          ],
          "name": "stdout"
        },
        {
          "output_type": "display_data",
          "data": {
            "text/html": [
              "<div>\n",
              "<style scoped>\n",
              "    .dataframe tbody tr th:only-of-type {\n",
              "        vertical-align: middle;\n",
              "    }\n",
              "\n",
              "    .dataframe tbody tr th {\n",
              "        vertical-align: top;\n",
              "    }\n",
              "\n",
              "    .dataframe thead th {\n",
              "        text-align: right;\n",
              "    }\n",
              "</style>\n",
              "<table border=\"1\" class=\"dataframe\">\n",
              "  <thead>\n",
              "    <tr style=\"text-align: right;\">\n",
              "      <th></th>\n",
              "      <th>Mean</th>\n",
              "      <th>Std</th>\n",
              "    </tr>\n",
              "  </thead>\n",
              "  <tbody>\n",
              "    <tr>\n",
              "      <th>Refractive_index</th>\n",
              "      <td>1.517964</td>\n",
              "      <td>0.001916</td>\n",
              "    </tr>\n",
              "    <tr>\n",
              "      <th>Sodium</th>\n",
              "      <td>13.437059</td>\n",
              "      <td>0.506887</td>\n",
              "    </tr>\n",
              "    <tr>\n",
              "      <th>Magnesium</th>\n",
              "      <td>3.543529</td>\n",
              "      <td>0.162786</td>\n",
              "    </tr>\n",
              "    <tr>\n",
              "      <th>Aluminum</th>\n",
              "      <td>1.201176</td>\n",
              "      <td>0.347489</td>\n",
              "    </tr>\n",
              "    <tr>\n",
              "      <th>Silicon</th>\n",
              "      <td>72.404706</td>\n",
              "      <td>0.512276</td>\n",
              "    </tr>\n",
              "    <tr>\n",
              "      <th>Potassium</th>\n",
              "      <td>0.406471</td>\n",
              "      <td>0.229890</td>\n",
              "    </tr>\n",
              "    <tr>\n",
              "      <th>Calcium</th>\n",
              "      <td>8.782941</td>\n",
              "      <td>0.380111</td>\n",
              "    </tr>\n",
              "    <tr>\n",
              "      <th>Barium</th>\n",
              "      <td>0.008824</td>\n",
              "      <td>0.036380</td>\n",
              "    </tr>\n",
              "    <tr>\n",
              "      <th>Iron</th>\n",
              "      <td>0.057059</td>\n",
              "      <td>0.107864</td>\n",
              "    </tr>\n",
              "  </tbody>\n",
              "</table>\n",
              "</div>"
            ],
            "text/plain": [
              "                       Mean       Std\n",
              "Refractive_index   1.517964  0.001916\n",
              "Sodium            13.437059  0.506887\n",
              "Magnesium          3.543529  0.162786\n",
              "Aluminum           1.201176  0.347489\n",
              "Silicon           72.404706  0.512276\n",
              "Potassium          0.406471  0.229890\n",
              "Calcium            8.782941  0.380111\n",
              "Barium             0.008824  0.036380\n",
              "Iron               0.057059  0.107864"
            ]
          },
          "metadata": {
            "tags": []
          }
        },
        {
          "output_type": "stream",
          "text": [
            "\n",
            "Mean and Standard deviation for class \"vehicle_windows_non_float_processed\" shown below:\n"
          ],
          "name": "stdout"
        },
        {
          "output_type": "display_data",
          "data": {
            "text/html": [
              "<div>\n",
              "<style scoped>\n",
              "    .dataframe tbody tr th:only-of-type {\n",
              "        vertical-align: middle;\n",
              "    }\n",
              "\n",
              "    .dataframe tbody tr th {\n",
              "        vertical-align: top;\n",
              "    }\n",
              "\n",
              "    .dataframe thead th {\n",
              "        text-align: right;\n",
              "    }\n",
              "</style>\n",
              "<table border=\"1\" class=\"dataframe\">\n",
              "  <thead>\n",
              "    <tr style=\"text-align: right;\">\n",
              "      <th></th>\n",
              "      <th>Mean</th>\n",
              "      <th>Std</th>\n",
              "    </tr>\n",
              "  </thead>\n",
              "  <tbody>\n",
              "    <tr>\n",
              "      <th>Refractive_index</th>\n",
              "      <td>0.0</td>\n",
              "      <td>0.0</td>\n",
              "    </tr>\n",
              "    <tr>\n",
              "      <th>Sodium</th>\n",
              "      <td>0.0</td>\n",
              "      <td>0.0</td>\n",
              "    </tr>\n",
              "    <tr>\n",
              "      <th>Magnesium</th>\n",
              "      <td>0.0</td>\n",
              "      <td>0.0</td>\n",
              "    </tr>\n",
              "    <tr>\n",
              "      <th>Aluminum</th>\n",
              "      <td>0.0</td>\n",
              "      <td>0.0</td>\n",
              "    </tr>\n",
              "    <tr>\n",
              "      <th>Silicon</th>\n",
              "      <td>0.0</td>\n",
              "      <td>0.0</td>\n",
              "    </tr>\n",
              "    <tr>\n",
              "      <th>Potassium</th>\n",
              "      <td>0.0</td>\n",
              "      <td>0.0</td>\n",
              "    </tr>\n",
              "    <tr>\n",
              "      <th>Calcium</th>\n",
              "      <td>0.0</td>\n",
              "      <td>0.0</td>\n",
              "    </tr>\n",
              "    <tr>\n",
              "      <th>Barium</th>\n",
              "      <td>0.0</td>\n",
              "      <td>0.0</td>\n",
              "    </tr>\n",
              "    <tr>\n",
              "      <th>Iron</th>\n",
              "      <td>0.0</td>\n",
              "      <td>0.0</td>\n",
              "    </tr>\n",
              "    <tr>\n",
              "      <th>class</th>\n",
              "      <td>0.0</td>\n",
              "      <td>0.0</td>\n",
              "    </tr>\n",
              "  </tbody>\n",
              "</table>\n",
              "</div>"
            ],
            "text/plain": [
              "                  Mean  Std\n",
              "Refractive_index   0.0  0.0\n",
              "Sodium             0.0  0.0\n",
              "Magnesium          0.0  0.0\n",
              "Aluminum           0.0  0.0\n",
              "Silicon            0.0  0.0\n",
              "Potassium          0.0  0.0\n",
              "Calcium            0.0  0.0\n",
              "Barium             0.0  0.0\n",
              "Iron               0.0  0.0\n",
              "class              0.0  0.0"
            ]
          },
          "metadata": {
            "tags": []
          }
        },
        {
          "output_type": "stream",
          "text": [
            "\n",
            "Mean and Standard deviation for class \"containers\" shown below:\n"
          ],
          "name": "stdout"
        },
        {
          "output_type": "display_data",
          "data": {
            "text/html": [
              "<div>\n",
              "<style scoped>\n",
              "    .dataframe tbody tr th:only-of-type {\n",
              "        vertical-align: middle;\n",
              "    }\n",
              "\n",
              "    .dataframe tbody tr th {\n",
              "        vertical-align: top;\n",
              "    }\n",
              "\n",
              "    .dataframe thead th {\n",
              "        text-align: right;\n",
              "    }\n",
              "</style>\n",
              "<table border=\"1\" class=\"dataframe\">\n",
              "  <thead>\n",
              "    <tr style=\"text-align: right;\">\n",
              "      <th></th>\n",
              "      <th>Mean</th>\n",
              "      <th>Std</th>\n",
              "    </tr>\n",
              "  </thead>\n",
              "  <tbody>\n",
              "    <tr>\n",
              "      <th>Refractive_index</th>\n",
              "      <td>1.518928</td>\n",
              "      <td>0.003345</td>\n",
              "    </tr>\n",
              "    <tr>\n",
              "      <th>Sodium</th>\n",
              "      <td>12.827692</td>\n",
              "      <td>0.777037</td>\n",
              "    </tr>\n",
              "    <tr>\n",
              "      <th>Magnesium</th>\n",
              "      <td>0.773846</td>\n",
              "      <td>0.999146</td>\n",
              "    </tr>\n",
              "    <tr>\n",
              "      <th>Aluminum</th>\n",
              "      <td>2.033846</td>\n",
              "      <td>0.693920</td>\n",
              "    </tr>\n",
              "    <tr>\n",
              "      <th>Silicon</th>\n",
              "      <td>72.366154</td>\n",
              "      <td>1.282319</td>\n",
              "    </tr>\n",
              "    <tr>\n",
              "      <th>Potassium</th>\n",
              "      <td>1.470000</td>\n",
              "      <td>2.138695</td>\n",
              "    </tr>\n",
              "    <tr>\n",
              "      <th>Calcium</th>\n",
              "      <td>10.123846</td>\n",
              "      <td>2.183791</td>\n",
              "    </tr>\n",
              "    <tr>\n",
              "      <th>Barium</th>\n",
              "      <td>0.187692</td>\n",
              "      <td>0.608251</td>\n",
              "    </tr>\n",
              "    <tr>\n",
              "      <th>Iron</th>\n",
              "      <td>0.060769</td>\n",
              "      <td>0.155588</td>\n",
              "    </tr>\n",
              "  </tbody>\n",
              "</table>\n",
              "</div>"
            ],
            "text/plain": [
              "                       Mean       Std\n",
              "Refractive_index   1.518928  0.003345\n",
              "Sodium            12.827692  0.777037\n",
              "Magnesium          0.773846  0.999146\n",
              "Aluminum           2.033846  0.693920\n",
              "Silicon           72.366154  1.282319\n",
              "Potassium          1.470000  2.138695\n",
              "Calcium           10.123846  2.183791\n",
              "Barium             0.187692  0.608251\n",
              "Iron               0.060769  0.155588"
            ]
          },
          "metadata": {
            "tags": []
          }
        },
        {
          "output_type": "stream",
          "text": [
            "\n",
            "Mean and Standard deviation for class \"tableware\" shown below:\n"
          ],
          "name": "stdout"
        },
        {
          "output_type": "display_data",
          "data": {
            "text/html": [
              "<div>\n",
              "<style scoped>\n",
              "    .dataframe tbody tr th:only-of-type {\n",
              "        vertical-align: middle;\n",
              "    }\n",
              "\n",
              "    .dataframe tbody tr th {\n",
              "        vertical-align: top;\n",
              "    }\n",
              "\n",
              "    .dataframe thead th {\n",
              "        text-align: right;\n",
              "    }\n",
              "</style>\n",
              "<table border=\"1\" class=\"dataframe\">\n",
              "  <thead>\n",
              "    <tr style=\"text-align: right;\">\n",
              "      <th></th>\n",
              "      <th>Mean</th>\n",
              "      <th>Std</th>\n",
              "    </tr>\n",
              "  </thead>\n",
              "  <tbody>\n",
              "    <tr>\n",
              "      <th>Refractive_index</th>\n",
              "      <td>1.517456</td>\n",
              "      <td>0.003116</td>\n",
              "    </tr>\n",
              "    <tr>\n",
              "      <th>Sodium</th>\n",
              "      <td>14.646667</td>\n",
              "      <td>1.084020</td>\n",
              "    </tr>\n",
              "    <tr>\n",
              "      <th>Magnesium</th>\n",
              "      <td>1.305556</td>\n",
              "      <td>1.097134</td>\n",
              "    </tr>\n",
              "    <tr>\n",
              "      <th>Aluminum</th>\n",
              "      <td>1.366667</td>\n",
              "      <td>0.571861</td>\n",
              "    </tr>\n",
              "    <tr>\n",
              "      <th>Silicon</th>\n",
              "      <td>73.206667</td>\n",
              "      <td>1.079467</td>\n",
              "    </tr>\n",
              "    <tr>\n",
              "      <th>Potassium</th>\n",
              "      <td>0.000000</td>\n",
              "      <td>0.000000</td>\n",
              "    </tr>\n",
              "    <tr>\n",
              "      <th>Calcium</th>\n",
              "      <td>9.356667</td>\n",
              "      <td>1.449948</td>\n",
              "    </tr>\n",
              "    <tr>\n",
              "      <th>Barium</th>\n",
              "      <td>0.000000</td>\n",
              "      <td>0.000000</td>\n",
              "    </tr>\n",
              "    <tr>\n",
              "      <th>Iron</th>\n",
              "      <td>0.000000</td>\n",
              "      <td>0.000000</td>\n",
              "    </tr>\n",
              "  </tbody>\n",
              "</table>\n",
              "</div>"
            ],
            "text/plain": [
              "                       Mean       Std\n",
              "Refractive_index   1.517456  0.003116\n",
              "Sodium            14.646667  1.084020\n",
              "Magnesium          1.305556  1.097134\n",
              "Aluminum           1.366667  0.571861\n",
              "Silicon           73.206667  1.079467\n",
              "Potassium          0.000000  0.000000\n",
              "Calcium            9.356667  1.449948\n",
              "Barium             0.000000  0.000000\n",
              "Iron               0.000000  0.000000"
            ]
          },
          "metadata": {
            "tags": []
          }
        },
        {
          "output_type": "stream",
          "text": [
            "\n",
            "Mean and Standard deviation for class \"headlamps\" shown below:\n"
          ],
          "name": "stdout"
        },
        {
          "output_type": "display_data",
          "data": {
            "text/html": [
              "<div>\n",
              "<style scoped>\n",
              "    .dataframe tbody tr th:only-of-type {\n",
              "        vertical-align: middle;\n",
              "    }\n",
              "\n",
              "    .dataframe tbody tr th {\n",
              "        vertical-align: top;\n",
              "    }\n",
              "\n",
              "    .dataframe thead th {\n",
              "        text-align: right;\n",
              "    }\n",
              "</style>\n",
              "<table border=\"1\" class=\"dataframe\">\n",
              "  <thead>\n",
              "    <tr style=\"text-align: right;\">\n",
              "      <th></th>\n",
              "      <th>Mean</th>\n",
              "      <th>Std</th>\n",
              "    </tr>\n",
              "  </thead>\n",
              "  <tbody>\n",
              "    <tr>\n",
              "      <th>Refractive_index</th>\n",
              "      <td>1.517116</td>\n",
              "      <td>0.002545</td>\n",
              "    </tr>\n",
              "    <tr>\n",
              "      <th>Sodium</th>\n",
              "      <td>14.442069</td>\n",
              "      <td>0.686359</td>\n",
              "    </tr>\n",
              "    <tr>\n",
              "      <th>Magnesium</th>\n",
              "      <td>0.538276</td>\n",
              "      <td>1.117683</td>\n",
              "    </tr>\n",
              "    <tr>\n",
              "      <th>Aluminum</th>\n",
              "      <td>2.122759</td>\n",
              "      <td>0.442726</td>\n",
              "    </tr>\n",
              "    <tr>\n",
              "      <th>Silicon</th>\n",
              "      <td>72.965862</td>\n",
              "      <td>0.940234</td>\n",
              "    </tr>\n",
              "    <tr>\n",
              "      <th>Potassium</th>\n",
              "      <td>0.325172</td>\n",
              "      <td>0.668493</td>\n",
              "    </tr>\n",
              "    <tr>\n",
              "      <th>Calcium</th>\n",
              "      <td>8.491379</td>\n",
              "      <td>0.973505</td>\n",
              "    </tr>\n",
              "    <tr>\n",
              "      <th>Barium</th>\n",
              "      <td>1.040000</td>\n",
              "      <td>0.665341</td>\n",
              "    </tr>\n",
              "    <tr>\n",
              "      <th>Iron</th>\n",
              "      <td>0.013448</td>\n",
              "      <td>0.029794</td>\n",
              "    </tr>\n",
              "  </tbody>\n",
              "</table>\n",
              "</div>"
            ],
            "text/plain": [
              "                       Mean       Std\n",
              "Refractive_index   1.517116  0.002545\n",
              "Sodium            14.442069  0.686359\n",
              "Magnesium          0.538276  1.117683\n",
              "Aluminum           2.122759  0.442726\n",
              "Silicon           72.965862  0.940234\n",
              "Potassium          0.325172  0.668493\n",
              "Calcium            8.491379  0.973505\n",
              "Barium             1.040000  0.665341\n",
              "Iron               0.013448  0.029794"
            ]
          },
          "metadata": {
            "tags": []
          }
        }
      ]
    },
    {
      "cell_type": "markdown",
      "metadata": {
        "id": "FOV2HEVINWLe"
      },
      "source": [
        "###Gaussian Naive Bayes"
      ]
    },
    {
      "cell_type": "code",
      "metadata": {
        "id": "g_sn1eqDCZUu",
        "outputId": "b9320b24-e151-4024-ce9e-2c893e5a4ba0",
        "colab": {
          "base_uri": "https://localhost:8080/",
          "height": 0
        }
      },
      "source": [
        "from sklearn.naive_bayes import GaussianNB\n",
        "\n",
        "X = dataframe.iloc[:, :-1].values\n",
        "y = dataframe.iloc[:, -1].values\n",
        "X_train, X_test, y_train, y_test = train_test_split(X, y, test_size=0.2, random_state=123)\n",
        "gnb = GaussianNB()\n",
        "y_pred = gnb.fit(X_train, y_train).predict(X_test)\n",
        "correct_predictions = (y_test == y_pred).sum()\n",
        "print(\"Accuracy = {0} with {1} out of {2} points correctly labeled\".format(correct_predictions/X_test.shape[0] * 100.0, correct_predictions, X_test.shape[0]))"
      ],
      "execution_count": 38,
      "outputs": [
        {
          "output_type": "stream",
          "text": [
            "Accuracy = 58.139534883720934 with 25 out of 43 points correctly labeled\n"
          ],
          "name": "stdout"
        }
      ]
    },
    {
      "cell_type": "markdown",
      "metadata": {
        "id": "TIboDOiG10P8"
      },
      "source": [
        "### Probability Density Function"
      ]
    },
    {
      "cell_type": "code",
      "metadata": {
        "id": "8a6lKiCi1WdX",
        "outputId": "4172e745-776d-4bd7-9bae-c120ce8176c9",
        "colab": {
          "base_uri": "https://localhost:8080/",
          "height": 283
        }
      },
      "source": [
        "from scipy.stats import norm\n",
        "x = 0.2\n",
        "mean = 0.5\n",
        "std = 0.1\n",
        "\n",
        "print(norm.pdf(x, mean, std))\n",
        "plt.plot(x,norm.pdf(x, mean, std),'ro') \n",
        "\n",
        "x = np.linspace(0.0, 1, 1000)\n",
        "plt.plot(x, norm.pdf(x, mean, std))\n",
        "plt.show()"
      ],
      "execution_count": 39,
      "outputs": [
        {
          "output_type": "stream",
          "text": [
            "0.044318484119380115\n"
          ],
          "name": "stdout"
        },
        {
          "output_type": "display_data",
          "data": {
            "image/png": "[encoded data removed]",
            "text/plain": [
              "<Figure size 432x288 with 1 Axes>"
            ]
          },
          "metadata": {
            "tags": [],
            "needs_background": "light"
          }
        }
      ]
    },
    {
      "cell_type": "code",
      "metadata": {
        "id": "E8y60pCo9wzN",
        "outputId": "1a234ac0-7969-44db-a0b3-5eacb485b89b",
        "colab": {
          "base_uri": "https://localhost:8080/",
          "height": 604
        }
      },
      "source": [
        "height = 0.2\n",
        "width = 0.7\n",
        "pdf_height= 0.0\n",
        "pdf_width= 0.0\n",
        "\n",
        "print(\"Class 1: \")\n",
        "prior = 0.6\n",
        "pdf_height = norm.pdf(height, 0.5, 0.1)\n",
        "pdf_width= norm.pdf(width, 0.7, 1)\n",
        "post_prob_class1 = prior*pdf_height*pdf_width\n",
        "print(\"The posterior probability of Class 1 = {0} * {1} * {2} = {3}\".format(prior, pdf_height, pdf_width, post_prob_class1))\n",
        "\n",
        "x = np.linspace(-2.0, 3.0, 1000)\n",
        "plt.plot(height, pdf_height,'ro') \n",
        "plt.plot(width, pdf_width, 'go')\n",
        "plt.plot(x, norm.pdf(x, 0.5, 0.1),'r')\n",
        "plt.plot(x, norm.pdf(x, 0.7, 1), 'g')\n",
        "plt.show()\n",
        "\n",
        "\n",
        "print(\"Class 2: \")\n",
        "prior = 0.4\n",
        "pdf_height = norm.pdf(height, 0.2, 0.1)\n",
        "pdf_width= norm.pdf(width, 0.3, 0.2)\n",
        "post_prob_class2 = prior*pdf_height*pdf_width\n",
        "print(\"The posterior probability of Class 2 = {0} * {1} * {2} = {3}\".format(prior, pdf_height, pdf_width, post_prob_class2))\n",
        "\n",
        "x = np.linspace(-0.5, 1.0, 1000)\n",
        "plt.plot(height, pdf_height,'ro') \n",
        "plt.plot(width, pdf_width, 'go')\n",
        "plt.plot(x, norm.pdf(x, 0.2, 0.1),'r')\n",
        "plt.plot(x, norm.pdf(x, 0.3, 0.2), 'g')\n",
        "plt.show()\n",
        "\n",
        "print(\"Because {0} > {1}. Class 2 is a better option\".format(post_prob_class2, post_prob_class1))"
      ],
      "execution_count": 40,
      "outputs": [
        {
          "output_type": "stream",
          "text": [
            "Class 1: \n",
            "The posterior probability of Class 1 = 0.6 * 0.044318484119380115 * 0.3989422804014327 = 0.01060831027111211\n"
          ],
          "name": "stdout"
        },
        {
          "output_type": "display_data",
          "data": {
            "image/png": "[encoded data removed]",
            "text/plain": [
              "<Figure size 432x288 with 1 Axes>"
            ]
          },
          "metadata": {
            "tags": [],
            "needs_background": "light"
          }
        },
        {
          "output_type": "stream",
          "text": [
            "Class 2: \n",
            "The posterior probability of Class 2 = 0.4 * 3.989422804014327 * 0.2699548325659404 = 0.4307855860369728\n"
          ],
          "name": "stdout"
        },
        {
          "output_type": "display_data",
          "data": {
            "image/png": "[encoded data removed]",
            "text/plain": [
              "<Figure size 432x288 with 1 Axes>"
            ]
          },
          "metadata": {
            "tags": [],
            "needs_background": "light"
          }
        },
        {
          "output_type": "stream",
          "text": [
            "Because 0.4307855860369728 > 0.01060831027111211. Class 2 is a better option\n"
          ],
          "name": "stdout"
        }
      ]
    },
    {
      "cell_type": "markdown",
      "metadata": {
        "id": "Dw2EAR6Zk0bI"
      },
      "source": [
        "###Naive Bayes Classifier for Glass dataset"
      ]
    },
    {
      "cell_type": "markdown",
      "metadata": {
        "id": "w_w9fZNfFCmg"
      },
      "source": [
        ""
      ]
    },
    {
      "cell_type": "code",
      "metadata": {
        "id": "yGZVdey9k6ET",
        "outputId": "67af5e3a-5c75-4006-c79c-fe2ea00ac73a",
        "colab": {
          "base_uri": "https://localhost:8080/",
          "height": 355
        }
      },
      "source": [
        "def Glass_NaiveBayes_Predict(y):\n",
        "  meanIndex = 0\n",
        "  stdIndex = 1\n",
        "  highest_pdf = 0 \n",
        "\n",
        "  for cl in classes[1:]: #skip first empty entry\n",
        "    pdf = priors[classes.index(cl)] #initialize\n",
        "    for i in range(len(header[:-1])): #ignore last entry 'class'\n",
        "      pdf = pdf * norm.pdf(y[i], stats[cl].iloc[i, meanIndex], max(0.000001, stats[cl].iloc[i, stdIndex]))\n",
        "    #End For\n",
        "    if pdf > highest_pdf:\n",
        "      highest_pdf = pdf\n",
        "      prediction = cl\n",
        "    #End If\n",
        "  #End For\n",
        "  return prediction\n",
        "#End Def\n",
        "\n",
        "\n",
        "new_data = [1.51, 14.64, 1.30, 1.36, 73.20, 0.0, 9.35, 0.0, 0.0] #should be tableware\n",
        "prediction = Glass_NaiveBayes_Predict(new_data)\n",
        "\n",
        "print(\"Prediction: '{}'\\nBelow is shown the table with the 'new_data' coloumn next to it for reference\".format(prediction))\n",
        "stats[prediction].join(pd.DataFrame({'new_data': pd.Series(new_data,index=header[:-1])}))"
      ],
      "execution_count": 41,
      "outputs": [
        {
          "output_type": "stream",
          "text": [
            "Prediction: 'tableware'\n",
            "Below is shown the table with the 'new_data' coloumn next to it for reference\n"
          ],
          "name": "stdout"
        },
        {
          "output_type": "execute_result",
          "data": {
            "text/html": [
              "<div>\n",
              "<style scoped>\n",
              "    .dataframe tbody tr th:only-of-type {\n",
              "        vertical-align: middle;\n",
              "    }\n",
              "\n",
              "    .dataframe tbody tr th {\n",
              "        vertical-align: top;\n",
              "    }\n",
              "\n",
              "    .dataframe thead th {\n",
              "        text-align: right;\n",
              "    }\n",
              "</style>\n",
              "<table border=\"1\" class=\"dataframe\">\n",
              "  <thead>\n",
              "    <tr style=\"text-align: right;\">\n",
              "      <th></th>\n",
              "      <th>Mean</th>\n",
              "      <th>Std</th>\n",
              "      <th>new_data</th>\n",
              "    </tr>\n",
              "  </thead>\n",
              "  <tbody>\n",
              "    <tr>\n",
              "      <th>Refractive_index</th>\n",
              "      <td>1.517456</td>\n",
              "      <td>0.003116</td>\n",
              "      <td>1.51</td>\n",
              "    </tr>\n",
              "    <tr>\n",
              "      <th>Sodium</th>\n",
              "      <td>14.646667</td>\n",
              "      <td>1.084020</td>\n",
              "      <td>14.64</td>\n",
              "    </tr>\n",
              "    <tr>\n",
              "      <th>Magnesium</th>\n",
              "      <td>1.305556</td>\n",
              "      <td>1.097134</td>\n",
              "      <td>1.30</td>\n",
              "    </tr>\n",
              "    <tr>\n",
              "      <th>Aluminum</th>\n",
              "      <td>1.366667</td>\n",
              "      <td>0.571861</td>\n",
              "      <td>1.36</td>\n",
              "    </tr>\n",
              "    <tr>\n",
              "      <th>Silicon</th>\n",
              "      <td>73.206667</td>\n",
              "      <td>1.079467</td>\n",
              "      <td>73.20</td>\n",
              "    </tr>\n",
              "    <tr>\n",
              "      <th>Potassium</th>\n",
              "      <td>0.000000</td>\n",
              "      <td>0.000000</td>\n",
              "      <td>0.00</td>\n",
              "    </tr>\n",
              "    <tr>\n",
              "      <th>Calcium</th>\n",
              "      <td>9.356667</td>\n",
              "      <td>1.449948</td>\n",
              "      <td>9.35</td>\n",
              "    </tr>\n",
              "    <tr>\n",
              "      <th>Barium</th>\n",
              "      <td>0.000000</td>\n",
              "      <td>0.000000</td>\n",
              "      <td>0.00</td>\n",
              "    </tr>\n",
              "    <tr>\n",
              "      <th>Iron</th>\n",
              "      <td>0.000000</td>\n",
              "      <td>0.000000</td>\n",
              "      <td>0.00</td>\n",
              "    </tr>\n",
              "  </tbody>\n",
              "</table>\n",
              "</div>"
            ],
            "text/plain": [
              "                       Mean       Std  new_data\n",
              "Refractive_index   1.517456  0.003116      1.51\n",
              "Sodium            14.646667  1.084020     14.64\n",
              "Magnesium          1.305556  1.097134      1.30\n",
              "Aluminum           1.366667  0.571861      1.36\n",
              "Silicon           73.206667  1.079467     73.20\n",
              "Potassium          0.000000  0.000000      0.00\n",
              "Calcium            9.356667  1.449948      9.35\n",
              "Barium             0.000000  0.000000      0.00\n",
              "Iron               0.000000  0.000000      0.00"
            ]
          },
          "metadata": {
            "tags": []
          },
          "execution_count": 41
        }
      ]
    },
    {
      "cell_type": "markdown",
      "metadata": {
        "id": "VUCYXnSPRbrd"
      },
      "source": [
        "###Support Vector Machine"
      ]
    },
    {
      "cell_type": "code",
      "metadata": {
        "id": "VVrWqZI7RfXj",
        "outputId": "6695e5c6-a0bd-44ef-91e9-7a5807f76191",
        "colab": {
          "base_uri": "https://localhost:8080/",
          "height": 0
        }
      },
      "source": [
        "from sklearn.svm import SVC #https://scikit-learn.org/stable/modules/generated/sklearn.svm.SVC.html\n",
        "X = dataframe.drop('class',1).to_numpy()\n",
        "y = dataframe['class'].to_numpy()\n",
        "x_train, x_test, y_train, y_test = train_test_split(X, y, test_size=0.2, random_state=8290)\n",
        "print(x_train.shape, x_test.shape, y_train.shape, y_test.shape)\n",
        "SVC().fit(x_train, y_train).predict(x_test)\n",
        "print(\"Accuarcy of plain SVC on glass dataset: \", np.count_nonzero(SVC().fit(x_train, y_train).predict(x_test) == y_test)/(len(y_test)))"
      ],
      "execution_count": 42,
      "outputs": [
        {
          "output_type": "stream",
          "text": [
            "(171, 9) (43, 9) (171,) (43,)\n",
            "Accuarcy of plain SVC on glass dataset:  0.2558139534883721\n"
          ],
          "name": "stdout"
        }
      ]
    },
    {
      "cell_type": "code",
      "metadata": {
        "id": "-fA8oTglDDX0",
        "outputId": "9d58e834-bcd1-4600-a65a-7b41d609aaf5",
        "colab": {
          "base_uri": "https://localhost:8080/",
          "height": 0
        }
      },
      "source": [
        "\n",
        "c = 5 #C is for how heavily the misclassification  will be penalized\n",
        "linear_index = 0\n",
        "radial_index = 1\n",
        "clf = [None] * 2\n",
        "predictions = [None] * 2\n",
        "accuracies = [None] * 2\n",
        "\n",
        "clf[linear_index] = SVC(kernel = 'linear', C = c, gamma='auto')\n",
        "clf[radial_index] = SVC(kernel = 'rbf', C = c,  gamma='auto')\n",
        "\n",
        "clf[linear_index].fit(x_train, y_train)\n",
        "clf[radial_index].fit(x_train, y_train)\n",
        "\n",
        "predictions[linear_index] = clf[linear_index].predict(x_test)\n",
        "predictions[radial_index] = clf[radial_index].predict(x_test)\n",
        "\n",
        "accuracies[linear_index] = np.count_nonzero(predictions[linear_index] == y_test)/(len(y_test))\n",
        "accuracies[radial_index] = np.count_nonzero(predictions[radial_index] == y_test)/(len(y_test))\n",
        "\n",
        "print(\"Comapreing both accuarcies:\")\n",
        "print(\"Linear kernel: {} %\".format(accuracies[linear_index] * 100.0))\n",
        "print(\"Radial kernel: {} %\".format(accuracies[radial_index] * 100.0))\n",
        "print(\"The radial kernel achieved a higher accuarcy.\")"
      ],
      "execution_count": 43,
      "outputs": [
        {
          "output_type": "stream",
          "text": [
            "Comapreing both accuarcies:\n",
            "Linear kernel: 65.11627906976744 %\n",
            "Radial kernel: 76.74418604651163 %\n",
            "The radial kernel achieved a higher accuarcy.\n"
          ],
          "name": "stdout"
        }
      ]
    },
    {
      "cell_type": "markdown",
      "metadata": {
        "id": "97HaOox97432"
      },
      "source": [
        "###Confusion Matrix"
      ]
    },
    {
      "cell_type": "code",
      "metadata": {
        "id": "_aTzg6Qb77Fi",
        "outputId": "17be5165-613e-46e2-fdb0-5ed695bad536",
        "colab": {
          "base_uri": "https://localhost:8080/",
          "height": 670
        }
      },
      "source": [
        "from sklearn.metrics import confusion_matrix\n",
        "import seaborn as sn\n",
        "\n",
        "conf_matrix = confusion_matrix(y_test, predictions[radial_index])\n",
        "\n",
        "clean_classes = [x for i,x in enumerate(classes[1:]) if i!=4] #get all items except index 1 and 4\n",
        "print(clean_classes)\n",
        "df_cm = pd.DataFrame(conf_matrix, index = [i for i in clean_classes], columns = [i for i in clean_classes])\n",
        "plt.figure(figsize = (10,7))\n",
        "sn.heatmap(df_cm, annot=True)"
      ],
      "execution_count": 44,
      "outputs": [
        {
          "output_type": "stream",
          "text": [
            "['building_windows_float_processed', 'building_windows_non_float_processed', 'vehicle_windows_float_processed', 'vehicle_windows_non_float_processed', 'tableware', 'headlamps']\n"
          ],
          "name": "stdout"
        },
        {
          "output_type": "execute_result",
          "data": {
            "text/plain": [
              "<matplotlib.axes._subplots.AxesSubplot at 0x7f004b839e48>"
            ]
          },
          "metadata": {
            "tags": []
          },
          "execution_count": 44
        },
        {
          "output_type": "display_data",
          "data": {
            "image/png": "[encoded data removed]",
            "text/plain": [
              "<Figure size 720x504 with 2 Axes>"
            ]
          },
          "metadata": {
            "tags": [],
            "needs_background": "light"
          }
        }
      ]
    },
    {
      "cell_type": "markdown",
      "metadata": {
        "id": "kDZ_XCgMo44t"
      },
      "source": [
        "###Best Performing Hyperparameters "
      ]
    },
    {
      "cell_type": "code",
      "metadata": {
        "id": "imA6zPGLnf4g",
        "outputId": "f097b751-d1b8-4dd4-87d6-fe2c14232f88",
        "colab": {
          "base_uri": "https://localhost:8080/",
          "height": 375
        }
      },
      "source": [
        "#from sklearn.grid_search import ParameterGrid\n",
        "import seaborn as sns\n",
        "Cs = [0.01, 0.1, 0.5, 1, 2, 3, 4, 5, 7, 10, 15, 20]\n",
        "accuracies = [] \n",
        "highest_accuracy = 0\n",
        "highest_accuracy_index = 0\n",
        "\n",
        "for i in range(len(Cs)):\n",
        "  clf = SVC(kernel = 'rbf', C = Cs[i], gamma='auto')\n",
        "  clf.fit(x_train, y_train)\n",
        "  predictions = clf.predict(x_test)\n",
        "  accuracies.append(np.count_nonzero(predictions == y_test)/(len(y_test)))\n",
        "  if accuracies[i] > highest_accuracy:\n",
        "    highest_accuracy = accuracies[i]\n",
        "    highest_accuracy_index = i\n",
        "    clf_with_highest_accuracy = clf\n",
        "  #End If\n",
        "#End For\n",
        "\n",
        "Cs_with_highest_accuracy = [Cs[i] for i, x in enumerate(accuracies) if x == highest_accuracy]\n",
        "print(\"The best accuarcy found used a C = {},\\nwith an accuarcy = {}\".format(Cs_with_highest_accuracy,highest_accuracy))\n",
        "\n",
        "fig = plt.figure()\n",
        "ax = fig.add_axes([0,0,1,1])\n",
        "Cs = ['0.01', '0.1', '0.5', '1',' 2', '3', '4', '5', '7', '10', '15', '20']\n",
        "ax.bar(Cs,accuracies)\n",
        "plt.show()"
      ],
      "execution_count": 45,
      "outputs": [
        {
          "output_type": "stream",
          "text": [
            "The best accuarcy found used a C = [4, 5, 7, 10],\n",
            "with an accuarcy = 0.7674418604651163\n"
          ],
          "name": "stdout"
        },
        {
          "output_type": "display_data",
          "data": {
            "image/png": "[encoded data removed]",
            "text/plain": [
              "<Figure size 432x288 with 1 Axes>"
            ]
          },
          "metadata": {
            "tags": [],
            "needs_background": "light"
          }
        }
      ]
    },
    {
      "cell_type": "markdown",
      "metadata": {
        "id": "tTzFGIqvpNXZ"
      },
      "source": [
        "###Suport Vectors"
      ]
    },
    {
      "cell_type": "code",
      "metadata": {
        "id": "jrnWRNbopL_e",
        "outputId": "399a9e68-f2d6-44ee-b686-31d18abd4302",
        "colab": {
          "base_uri": "https://localhost:8080/",
          "height": 0
        }
      },
      "source": [
        "# get support vectors\n",
        "clf_with_highest_accuracy.support_vectors_"
      ],
      "execution_count": 46,
      "outputs": [
        {
          "output_type": "execute_result",
          "data": {
            "text/plain": [
              "array([[1.51720e+00, 1.33800e+01, 3.50000e+00, ..., 8.43000e+00,\n",
              "        0.00000e+00, 0.00000e+00],\n",
              "       [1.51775e+00, 1.28500e+01, 3.48000e+00, ..., 8.56000e+00,\n",
              "        9.00000e-02, 2.20000e-01],\n",
              "       [1.51736e+00, 1.27800e+01, 3.62000e+00, ..., 8.70000e+00,\n",
              "        0.00000e+00, 0.00000e+00],\n",
              "       ...,\n",
              "       [1.51508e+00, 1.51500e+01, 0.00000e+00, ..., 8.34000e+00,\n",
              "        6.30000e-01, 0.00000e+00],\n",
              "       [1.51556e+00, 1.38700e+01, 0.00000e+00, ..., 9.41000e+00,\n",
              "        8.10000e-01, 1.00000e-02],\n",
              "       [1.52315e+00, 1.34400e+01, 3.34000e+00, ..., 8.83000e+00,\n",
              "        0.00000e+00, 0.00000e+00]])"
            ]
          },
          "metadata": {
            "tags": []
          },
          "execution_count": 46
        }
      ]
    },
    {
      "cell_type": "markdown",
      "metadata": {
        "id": "DFGFN3egU8Ib"
      },
      "source": [
        "###Performance Improvements to the SVM"
      ]
    },
    {
      "cell_type": "markdown",
      "metadata": {
        "id": "S5decgsyVBMf"
      },
      "source": [
        "1. Rescale data: rescaling the data is supposed to even out the features such that they all have the same weight or level of importance while classifying. But in this case the classifier performed worst with rescaled data, probably becuase not all features are relevant in some clasificatinos and the ones that are important lost relevance after the rescaleing.\n",
        "2. Using \"GridSearchCV\" to do search of different parameters for the best results. The search will explore 3 different kernels, many values for C and 2 gamma options. This method did improve the performance of the algorithm."
      ]
    },
    {
      "cell_type": "code",
      "metadata": {
        "id": "ZjXc5ualVDYX",
        "outputId": "e4e5cfa6-bd34-4282-a466-5164c7f3cb8a",
        "colab": {
          "base_uri": "https://localhost:8080/",
          "height": 0
        }
      },
      "source": [
        "from sklearn.model_selection import GridSearchCV\n",
        "\n",
        "def rescale_data(data_):\n",
        "  rescaled_data = np.divide(np.subtract(data_, min([i for i, x in enumerate(data_.T)])), max([i for i, x in enumerate(data_.T)]) - min([i for i, x in enumerate(data_.T)]))\n",
        "  return rescaled_data\n",
        "\n",
        "x_train, x_test, y_train, y_test = train_test_split(rescale_data(X), y, test_size=0.2, random_state=8290)\n",
        "\n",
        "parameters = {'kernel':('linear', 'rbf', 'sigmoid'), 'C':[1, 100], 'gamma':('scale', 'auto') }\n",
        "svc = SVC()\n",
        "clf = GridSearchCV(svc, parameters)\n",
        "clf.fit(x_train, y_train)\n",
        "predictions = clf.predict(x_test)\n",
        "accuracy = np.count_nonzero(predictions == y_test)/(len(y_test))\n",
        "\n",
        "print(\"The best accuarcy found was: {}\".format(accuracy))"
      ],
      "execution_count": 47,
      "outputs": [
        {
          "output_type": "stream",
          "text": [
            "The best accuarcy found was: 0.6511627906976745\n"
          ],
          "name": "stdout"
        }
      ]
    }
  ]
}